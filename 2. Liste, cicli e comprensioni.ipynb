{
 "cells": [
  {
   "cell_type": "markdown",
   "metadata": {},
   "source": [
    "*Contenuti*\n",
    "===\n",
    "- [Liste](#Liste)\n",
    "    - [Lunghezza e accesso indicizzato](#Lunghezza-e-accesso-indicizzato)\n",
    "    - [Lista vuota, aggiunta, inserimento, modifica, cancellazione](#Lista-vuota,-aggiunta,-inserimento,-modifica,-cancellazione)\n",
    "    - [Estrazione e svuotamento](#Estrazione-e-svuotamento)\n",
    "    - [Ricerca](#Ricerca)\n",
    "    - [Ordinamento](#Ordinamento)\n",
    "    - [Liste di tipo misto](#Liste-di-tipo-misto)\n",
    "    - [*Slicing* e copia](#Slicing-e-copia)\n",
    "- [Cicli *for*](#Cicli-for)"
   ]
  },
  {
   "cell_type": "markdown",
   "metadata": {},
   "source": [
    "Liste\n",
    "===\n",
    "Una *lista* è una collezione ordinata di oggetti contenuta in una variabile."
   ]
  },
  {
   "cell_type": "code",
   "execution_count": 1,
   "metadata": {},
   "outputs": [
    {
     "name": "stdout",
     "output_type": "stream",
     "text": [
      "<class 'list'>\n",
      "['triangle', 'square', 'circle', 'hexagon']\n"
     ]
    }
   ],
   "source": [
    "shapes = ['triangle', 'square', 'circle', 'hexagon']\n",
    "print(type(shapes))\n",
    "print(shapes)"
   ]
  },
  {
   "cell_type": "markdown",
   "metadata": {},
   "source": [
    "Lunghezza e accesso indicizzato\n",
    "---\n",
    "La *dimensione* di una lista si ottiene col metodo *len*."
   ]
  },
  {
   "cell_type": "code",
   "execution_count": 2,
   "metadata": {},
   "outputs": [
    {
     "name": "stdout",
     "output_type": "stream",
     "text": [
      "4\n"
     ]
    }
   ],
   "source": [
    "print(len(shapes))"
   ]
  },
  {
   "cell_type": "markdown",
   "metadata": {},
   "source": [
    "Si può accedere ad una lista attraverso un indice intero: la prima posizione ha indice 0, l'ultima (dimensione - 1)."
   ]
  },
  {
   "cell_type": "code",
   "execution_count": 3,
   "metadata": {},
   "outputs": [
    {
     "name": "stdout",
     "output_type": "stream",
     "text": [
      "triangle\n",
      "square\n",
      "hexagon\n"
     ]
    }
   ],
   "source": [
    "print(shapes[0])\n",
    "print(shapes[1])\n",
    "print(shapes[len(shapes)-1])"
   ]
  },
  {
   "cell_type": "markdown",
   "metadata": {},
   "source": [
    "Si possono usare indici negativi per accedere comodamente agli ultimi elementi."
   ]
  },
  {
   "cell_type": "code",
   "execution_count": 4,
   "metadata": {},
   "outputs": [
    {
     "name": "stdout",
     "output_type": "stream",
     "text": [
      "hexagon\n",
      "circle\n"
     ]
    }
   ],
   "source": [
    "print(shapes[-1])#ultimo\n",
    "print(shapes[-2])#penultimo"
   ]
  },
  {
   "cell_type": "markdown",
   "metadata": {},
   "source": [
    "Lista vuota, aggiunta, inserimento, modifica, cancellazione\n",
    "---\n",
    "Si può creare una lista vuota e aggiungervi elementi successivamente."
   ]
  },
  {
   "cell_type": "code",
   "execution_count": 5,
   "metadata": {},
   "outputs": [
    {
     "name": "stdout",
     "output_type": "stream",
     "text": [
      "[]\n",
      "['triangle']\n"
     ]
    }
   ],
   "source": [
    "shapes = []#lista vuota\n",
    "print(shapes)\n",
    "shapes.append('triangle')#aggiunta\n",
    "print(shapes)"
   ]
  },
  {
   "cell_type": "markdown",
   "metadata": {},
   "source": [
    "Gli operatori sono interpretati da Python in modo dinamico."
   ]
  },
  {
   "cell_type": "code",
   "execution_count": 6,
   "metadata": {},
   "outputs": [
    {
     "name": "stdout",
     "output_type": "stream",
     "text": [
      "['triangle', 'square']\n"
     ]
    }
   ],
   "source": [
    "shapes = shapes + ['square']#aggiunta con operatore '+'\n",
    "print(shapes)"
   ]
  },
  {
   "cell_type": "code",
   "execution_count": 7,
   "metadata": {},
   "outputs": [
    {
     "name": "stdout",
     "output_type": "stream",
     "text": [
      "5\n"
     ]
    }
   ],
   "source": [
    "a = 0\n",
    "a += 5#somma compatta\n",
    "print(a)"
   ]
  },
  {
   "cell_type": "code",
   "execution_count": 8,
   "metadata": {},
   "outputs": [
    {
     "name": "stdout",
     "output_type": "stream",
     "text": [
      "['triangle', 'square', 'circle']\n"
     ]
    }
   ],
   "source": [
    "shapes += ['circle']#aggiunta compatta\n",
    "print(shapes)"
   ]
  },
  {
   "cell_type": "markdown",
   "metadata": {},
   "source": [
    "Si possono inserire elementi in posizione specifica. Tutti quelli successivi saranno spostati sulla destra, e la dimensione della lista aumenterà di 1."
   ]
  },
  {
   "cell_type": "code",
   "execution_count": 9,
   "metadata": {},
   "outputs": [
    {
     "name": "stdout",
     "output_type": "stream",
     "text": [
      "['triangle', 'square', 'hexagon', 'circle']\n"
     ]
    }
   ],
   "source": [
    "shapes.insert(2, 'hexagon')#inserimento in posizione 2\n",
    "print(shapes)"
   ]
  },
  {
   "cell_type": "markdown",
   "metadata": {},
   "source": [
    "Gli elementi possono essere modificati in ogni momento."
   ]
  },
  {
   "cell_type": "code",
   "execution_count": 10,
   "metadata": {},
   "outputs": [
    {
     "name": "stdout",
     "output_type": "stream",
     "text": [
      "['rectangle', 'square', 'hexagon', 'circle']\n"
     ]
    }
   ],
   "source": [
    "shapes[0] = 'rectangle'#modifica\n",
    "print(shapes)"
   ]
  },
  {
   "cell_type": "markdown",
   "metadata": {},
   "source": [
    "Per cancellare un elemento della lista si usa il metodo *remove*."
   ]
  },
  {
   "cell_type": "code",
   "execution_count": 11,
   "metadata": {},
   "outputs": [
    {
     "name": "stdout",
     "output_type": "stream",
     "text": [
      "['rectangle', 'square', 'circle']\n"
     ]
    }
   ],
   "source": [
    "shapes.remove('hexagon')\n",
    "print(shapes)"
   ]
  },
  {
   "cell_type": "markdown",
   "metadata": {},
   "source": [
    "Estrazione e svuotamento\n",
    "---\n",
    "Il metodo *pop* estrae l'ultimo elemento."
   ]
  },
  {
   "cell_type": "code",
   "execution_count": 12,
   "metadata": {},
   "outputs": [
    {
     "name": "stdout",
     "output_type": "stream",
     "text": [
      "['rectangle', 'square']\n",
      "circle\n"
     ]
    }
   ],
   "source": [
    "last_element = shapes.pop()\n",
    "print(shapes)\n",
    "print(last_element)"
   ]
  },
  {
   "cell_type": "markdown",
   "metadata": {},
   "source": [
    "La lista si può svuotare con il metodo *clear*."
   ]
  },
  {
   "cell_type": "code",
   "execution_count": 13,
   "metadata": {},
   "outputs": [
    {
     "name": "stdout",
     "output_type": "stream",
     "text": [
      "[]\n"
     ]
    }
   ],
   "source": [
    "shapes.clear()#svuotamento\n",
    "print(shapes)"
   ]
  },
  {
   "cell_type": "markdown",
   "metadata": {},
   "source": [
    "Ricerca\n",
    "---\n",
    "Se si cerca un oggetto preciso nella lista, si può controllare che vi sia contenuto e in quale posizione."
   ]
  },
  {
   "cell_type": "code",
   "execution_count": 14,
   "metadata": {},
   "outputs": [
    {
     "name": "stdout",
     "output_type": "stream",
     "text": [
      "1\n"
     ]
    }
   ],
   "source": [
    "shapes = ['triangle', 'square', 'circle', 'hexagon']\n",
    "print(shapes.index('square'))"
   ]
  },
  {
   "cell_type": "code",
   "execution_count": 15,
   "metadata": {},
   "outputs": [
    {
     "ename": "ValueError",
     "evalue": "'rectangle' is not in list",
     "output_type": "error",
     "traceback": [
      "\u001b[0;31m---------------------------------------------------------------------------\u001b[0m",
      "\u001b[0;31mValueError\u001b[0m                                Traceback (most recent call last)",
      "\u001b[0;32m<ipython-input-15-81ce8cf24cf5>\u001b[0m in \u001b[0;36m<module>\u001b[0;34m()\u001b[0m\n\u001b[0;32m----> 1\u001b[0;31m \u001b[0mprint\u001b[0m\u001b[0;34m(\u001b[0m\u001b[0mshapes\u001b[0m\u001b[0;34m.\u001b[0m\u001b[0mindex\u001b[0m\u001b[0;34m(\u001b[0m\u001b[0;34m'rectangle'\u001b[0m\u001b[0;34m)\u001b[0m\u001b[0;34m)\u001b[0m\u001b[0;34m\u001b[0m\u001b[0m\n\u001b[0m",
      "\u001b[0;31mValueError\u001b[0m: 'rectangle' is not in list"
     ]
    }
   ],
   "source": [
    "print(shapes.index('rectangle'))"
   ]
  },
  {
   "cell_type": "code",
   "execution_count": 16,
   "metadata": {},
   "outputs": [
    {
     "name": "stdout",
     "output_type": "stream",
     "text": [
      "True\n"
     ]
    }
   ],
   "source": [
    "print('square' in shapes)"
   ]
  },
  {
   "cell_type": "code",
   "execution_count": 17,
   "metadata": {},
   "outputs": [
    {
     "name": "stdout",
     "output_type": "stream",
     "text": [
      "False\n"
     ]
    }
   ],
   "source": [
    "print('rectangle' in shapes)"
   ]
  },
  {
   "cell_type": "markdown",
   "metadata": {},
   "source": [
    "Ordinamento\n",
    "---\n",
    "Una lista può essere ordinata attraverso il metodo *sort* (del tipo lista) o *sorted* (built-in). Anche in questo caso, è Python che interpreta l'operazione in modo dinamico in base al tipo di variabili contenute nella lista. Nel caso delle stringhe, l'ordinamento sarà alfabetico."
   ]
  },
  {
   "cell_type": "code",
   "execution_count": 18,
   "metadata": {},
   "outputs": [
    {
     "name": "stdout",
     "output_type": "stream",
     "text": [
      "['circle', 'hexagon', 'square', 'triangle']\n"
     ]
    }
   ],
   "source": [
    "shapes = ['triangle', 'square', 'circle', 'hexagon']\n",
    "shapes.sort()#sort è 'in-place'\n",
    "print(shapes)"
   ]
  },
  {
   "cell_type": "code",
   "execution_count": 19,
   "metadata": {},
   "outputs": [
    {
     "name": "stdout",
     "output_type": "stream",
     "text": [
      "['circle', 'hexagon', 'square', 'triangle']\n"
     ]
    }
   ],
   "source": [
    "shapes = ['triangle', 'square', 'circle', 'hexagon']\n",
    "sorted_shapes = sorted(shapes)#sorted crea un'altra lista\n",
    "print(sorted_shapes)"
   ]
  },
  {
   "cell_type": "markdown",
   "metadata": {},
   "source": [
    "**Nota**: le operazione su liste (tranne quelle che operano *in-place*) creano *copie* della lista di partenza. Se si alterano gli elementi della nuova lista, questo non ha effetto su quella di partenza."
   ]
  },
  {
   "cell_type": "code",
   "execution_count": 20,
   "metadata": {},
   "outputs": [
    {
     "name": "stdout",
     "output_type": "stream",
     "text": [
      "['triangle', 'square', 'circle', 'hexagon']\n"
     ]
    }
   ],
   "source": [
    "print(shapes)"
   ]
  },
  {
   "cell_type": "code",
   "execution_count": 21,
   "metadata": {},
   "outputs": [
    {
     "name": "stdout",
     "output_type": "stream",
     "text": [
      "['triangle', 'hexagon', 'square', 'triangle']\n"
     ]
    }
   ],
   "source": [
    "sorted_shapes[0] = 'triangle'\n",
    "print(sorted_shapes)"
   ]
  },
  {
   "cell_type": "code",
   "execution_count": 22,
   "metadata": {},
   "outputs": [
    {
     "name": "stdout",
     "output_type": "stream",
     "text": [
      "['triangle', 'square', 'circle', 'hexagon']\n"
     ]
    }
   ],
   "source": [
    "print(shapes)"
   ]
  },
  {
   "cell_type": "markdown",
   "metadata": {},
   "source": [
    "Lo stesso vale per i numeri. Per convenzione, l'ordinamento è crescente."
   ]
  },
  {
   "cell_type": "code",
   "execution_count": 23,
   "metadata": {},
   "outputs": [
    {
     "name": "stdout",
     "output_type": "stream",
     "text": [
      "[1, 3, 5, 6, 7, 8]\n"
     ]
    }
   ],
   "source": [
    "numbers = [3,6,1,7,8,5]\n",
    "print(sorted(numbers))"
   ]
  },
  {
   "cell_type": "markdown",
   "metadata": {},
   "source": [
    "Sia sorted che sort permettono l'ordinamento inverso."
   ]
  },
  {
   "cell_type": "code",
   "execution_count": 24,
   "metadata": {},
   "outputs": [
    {
     "name": "stdout",
     "output_type": "stream",
     "text": [
      "[8, 7, 6, 5, 3, 1]\n"
     ]
    }
   ],
   "source": [
    "numbers = [3,6,1,7,8,5]\n",
    "numbers.sort(reverse=True)\n",
    "print(numbers)"
   ]
  },
  {
   "cell_type": "code",
   "execution_count": 25,
   "metadata": {},
   "outputs": [
    {
     "name": "stdout",
     "output_type": "stream",
     "text": [
      "[8, 7, 6, 5, 3, 1]\n"
     ]
    }
   ],
   "source": [
    "numbers = [3,6,1,7,8,5]\n",
    "print(sorted(numbers, reverse=True))"
   ]
  },
  {
   "cell_type": "markdown",
   "metadata": {},
   "source": [
    "In entrambi i casi, l'argomento *reverse* è *False* per default. Se non si specifica, l'ordinamento sarà quello naturale (dalla A alla Z, crescente,...)."
   ]
  },
  {
   "cell_type": "markdown",
   "metadata": {},
   "source": [
    "Liste di tipo misto\n",
    "---\n",
    "In Python, una lista può contenere qualsiasi cosa."
   ]
  },
  {
   "cell_type": "code",
   "execution_count": 26,
   "metadata": {},
   "outputs": [
    {
     "name": "stdout",
     "output_type": "stream",
     "text": [
      "['apples', 'oranges', 32, 17]\n"
     ]
    }
   ],
   "source": [
    "stuff = []\n",
    "stuff += ['apples']\n",
    "stuff += ['oranges']\n",
    "stuff += [32]\n",
    "stuff += [17]\n",
    "print(stuff)"
   ]
  },
  {
   "cell_type": "markdown",
   "metadata": {},
   "source": [
    "Anche un'altra lista."
   ]
  },
  {
   "cell_type": "code",
   "execution_count": 27,
   "metadata": {},
   "outputs": [
    {
     "name": "stdout",
     "output_type": "stream",
     "text": [
      "['apples', 'oranges', 32, 17, [1, 2, 3, 4]]\n"
     ]
    }
   ],
   "source": [
    "another_list = [1,2,3,4]\n",
    "stuff += [another_list]\n",
    "print(stuff)"
   ]
  },
  {
   "cell_type": "markdown",
   "metadata": {},
   "source": [
    "*Slicing* e copia\n",
    "---\n",
    "Python permette l'estrazione di sottoliste (slicing) in modo molto compatto. "
   ]
  },
  {
   "cell_type": "code",
   "execution_count": 28,
   "metadata": {},
   "outputs": [
    {
     "name": "stdout",
     "output_type": "stream",
     "text": [
      "['a', 'b', 'c']\n"
     ]
    }
   ],
   "source": [
    "letters = ['a', 'b', 'c', 'd', 'e', 'f', 'g', 'h']\n",
    "print(letters[:3])#'le prime 3'"
   ]
  },
  {
   "cell_type": "code",
   "execution_count": 29,
   "metadata": {},
   "outputs": [
    {
     "name": "stdout",
     "output_type": "stream",
     "text": [
      "['d', 'e', 'f', 'g', 'h']\n"
     ]
    }
   ],
   "source": [
    "print(letters[3:])#'dalla terza (esclusa) in poi'"
   ]
  },
  {
   "cell_type": "code",
   "execution_count": 30,
   "metadata": {},
   "outputs": [
    {
     "data": {
      "text/plain": [
       "['a', 'b', 'c', 'd', 'e', 'f', 'g', 'h']"
      ]
     },
     "execution_count": 30,
     "metadata": {},
     "output_type": "execute_result"
    }
   ],
   "source": [
    "letters[:3] + letters[3:]"
   ]
  },
  {
   "cell_type": "code",
   "execution_count": 31,
   "metadata": {},
   "outputs": [
    {
     "name": "stdout",
     "output_type": "stream",
     "text": [
      "['d', 'e', 'f']\n"
     ]
    }
   ],
   "source": [
    "print(letters[3:6])"
   ]
  },
  {
   "cell_type": "markdown",
   "metadata": {},
   "source": [
    "L'operazione di slicing può essere usata per copiare una lista."
   ]
  },
  {
   "cell_type": "code",
   "execution_count": 32,
   "metadata": {},
   "outputs": [
    {
     "name": "stdout",
     "output_type": "stream",
     "text": [
      "[1, 2, 3, 'a']\n"
     ]
    }
   ],
   "source": [
    "original_list = [1,2,3,'a']\n",
    "copied_list = original_list[:]\n",
    "print(copied_list)"
   ]
  },
  {
   "cell_type": "code",
   "execution_count": 33,
   "metadata": {},
   "outputs": [
    {
     "name": "stdout",
     "output_type": "stream",
     "text": [
      "[1, 2, 3, 4]\n"
     ]
    }
   ],
   "source": [
    "copied_list[-1] = 4\n",
    "print(copied_list)"
   ]
  },
  {
   "cell_type": "markdown",
   "metadata": {},
   "source": [
    "Come prima, la lista originale rimane inalterata."
   ]
  },
  {
   "cell_type": "code",
   "execution_count": 34,
   "metadata": {},
   "outputs": [
    {
     "name": "stdout",
     "output_type": "stream",
     "text": [
      "[1, 2, 3, 'a']\n"
     ]
    }
   ],
   "source": [
    "print(original_list)"
   ]
  },
  {
   "cell_type": "markdown",
   "metadata": {},
   "source": [
    "Cicli ***for***\n",
    "===\n",
    "Si può accedere agli elementi di una lista attraverso un ciclo **for**.\n",
    "\n",
    "**Nota**: in Python l'indentazione è obbligatoria; questo ambiente di sviluppo semplifica la scrittura di codice indentato correttamente."
   ]
  },
  {
   "cell_type": "code",
   "execution_count": 35,
   "metadata": {},
   "outputs": [
    {
     "name": "stdout",
     "output_type": "stream",
     "text": [
      "triangle\n",
      "square\n",
      "circle\n",
      "hexagon\n"
     ]
    }
   ],
   "source": [
    "for shape in shapes:\n",
    "    print(shape)"
   ]
  }
 ],
 "metadata": {
  "kernelspec": {
   "display_name": "Python 3",
   "language": "python",
   "name": "python3"
  },
  "language_info": {
   "codemirror_mode": {
    "name": "ipython",
    "version": 3
   },
   "file_extension": ".py",
   "mimetype": "text/x-python",
   "name": "python",
   "nbconvert_exporter": "python",
   "pygments_lexer": "ipython3",
   "version": "3.6.5"
  }
 },
 "nbformat": 4,
 "nbformat_minor": 2
}
