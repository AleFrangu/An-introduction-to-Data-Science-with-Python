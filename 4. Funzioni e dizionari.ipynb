{
 "cells": [
  {
   "cell_type": "markdown",
   "metadata": {},
   "source": [
    "*Contenuti*\n",
    "===\n",
    "- [Funzioni](#Funzioni)\n",
    "    - [Sintassi](#Sintassi)\n",
    "    - [Operatore \\*](#Operatore-*)\n",
    "    - [Esercizio 1](#Esercizio-1)\n",
    "    - [Esercizio 2](#Esercizio-2)\n",
    "    - [Valore di ritorno](#Valore-di-ritorno)\n",
    "        - [Esercizio 3](#Esercizio-3)\n",
    "        - [Esercizio 4](#Esercizio-4)"
   ]
  },
  {
   "cell_type": "markdown",
   "metadata": {},
   "source": [
    "<a id='Funzioni'></a>\n",
    "Funzioni\n",
    "===\n",
    "Spesso, quando si scrive codice, una certa sequenza di azioni viene utilizzata molte volte, magari con piccole differenze di contesto.\n",
    "\n",
    "Supponiamo di creare un database di utenti, e di volerne di stampare via via le informazioni."
   ]
  },
  {
   "cell_type": "code",
   "execution_count": 89,
   "metadata": {},
   "outputs": [
    {
     "name": "stdout",
     "output_type": "stream",
     "text": [
      "Nome: Francesco\n",
      "Età: 30\n",
      "Sesso: M\n",
      "\n",
      "Nome: Elisa\n",
      "Età: 27\n",
      "Sesso: F\n",
      "\n",
      "Nome: Alessandro\n",
      "Età: 31\n",
      "Sesso: M\n",
      "\n",
      "Tutti gli utenti: [['Francesco', 30, 'M'], ['Elisa', 27, 'F'], ['Alessandro', 31, 'M']]\n"
     ]
    }
   ],
   "source": [
    "users = []#database\n",
    "\n",
    "francesco = ['Francesco', 30, 'M']\n",
    "print('Nome:', francesco[0])\n",
    "print('Età:', francesco[1])\n",
    "print('Sesso:', francesco[2])\n",
    "users += [francesco]\n",
    "\n",
    "elisa = ['Elisa', 27, 'F']\n",
    "print('\\nNome:', elisa[0])#\\n inserisce un 'a capo'\n",
    "print('Età:', elisa[1])\n",
    "print('Sesso:', elisa[2])\n",
    "users += [elisa]\n",
    "\n",
    "alessandro = ['Alessandro', 31, 'M']\n",
    "print('\\nNome:', alessandro[0])\n",
    "print('Età:', alessandro[1])\n",
    "print('Sesso:', alessandro[2])\n",
    "users += [alessandro]\n",
    "\n",
    "print('\\nTutti gli utenti:', users)"
   ]
  },
  {
   "cell_type": "markdown",
   "metadata": {},
   "source": [
    "La stampa viene ripetuta per ogni nuovo utente: il codice è lungo e ripetitivo, ed è facile fare errori."
   ]
  },
  {
   "cell_type": "markdown",
   "metadata": {},
   "source": [
    "<a id='Sintassi'></a>\n",
    "Sintassi\n",
    "---\n",
    "Una *funzione* è una sequenza di azioni a cui si dà un nome, e che si può *chiamare* all'occorrenza. Abbiamo già visto ed usato alcune funzioni: tra le altre, print, len, title e sorted."
   ]
  },
  {
   "cell_type": "code",
   "execution_count": null,
   "metadata": {},
   "outputs": [],
   "source": [
    "def function_name(argument_1, argument_2):\n",
    "    #fai qualcosa utilizzando argument_1 e argument_2\n",
    "    #volendo, restituisci un valore\n",
    "    \n",
    "function_name(a, b)#chiamata"
   ]
  },
  {
   "cell_type": "markdown",
   "metadata": {},
   "source": [
    "Il codice qui sopra non compila, è solo un esempio generale di funzione.\n",
    "\n",
    "- *argument_1* e *argument_2* sono detti *argomenti* e possono essere tanti a piacere\n",
    "- gli argomenti  seguono un ordine, che deve essere rispettato al momento della chiamata\n",
    "- **def** è una *keyword* del linguaggio, come for e if\n",
    "- *function_name* è il nome della funzione da usare al momento della chiamata\n",
    "- la definizione deve precedere la chiamata nell'ordine di scrittura del codice\n",
    "\n",
    "Torniamo al nosto database, e proviamo a condensare in una funzione la stampa delle informazioni di utente."
   ]
  },
  {
   "cell_type": "code",
   "execution_count": 91,
   "metadata": {},
   "outputs": [
    {
     "name": "stdout",
     "output_type": "stream",
     "text": [
      "\n",
      "Nome: Francesco\n",
      "Età: 30\n",
      "Sesso: M\n",
      "\n",
      "Nome: Elisa\n",
      "Età: 27\n",
      "Sesso: F\n",
      "\n",
      "Nome: Alessandro\n",
      "Età: 31\n",
      "Sesso: M\n",
      "\n",
      "Tutti gli utenti: [['Francesco', 30, 'M'], ['Elisa', 27, 'F'], ['Alessandro', 31, 'M']]\n"
     ]
    }
   ],
   "source": [
    "def show_user_info(name, age, sex):\n",
    "    print('\\nNome:', name)\n",
    "    print('Età:', age)\n",
    "    print('Sesso:', sex)\n",
    "    \n",
    "users = []\n",
    "\n",
    "francesco = ['Francesco', 30, 'M']\n",
    "show_user_info(francesco[0], francesco[1], francesco[2])\n",
    "users += [francesco]\n",
    "\n",
    "elisa = ['Elisa', 27, 'F']\n",
    "show_user_info(elisa[0], elisa[1], elisa[2])\n",
    "users += [elisa]\n",
    "\n",
    "alessandro = ['Alessandro', 31, 'M']\n",
    "show_user_info(alessandro[0], alessandro[1], alessandro[2])\n",
    "users += [alessandro]\n",
    "\n",
    "print('\\nTutti gli utenti:', users)"
   ]
  },
  {
   "cell_type": "markdown",
   "metadata": {},
   "source": [
    "Operatore *\n",
    "---\n",
    "Il costrutto \\*lista permette di passare una lista ad un metodo, sotto forma di argomenti 'spacchettati'."
   ]
  },
  {
   "cell_type": "code",
   "execution_count": 92,
   "metadata": {},
   "outputs": [
    {
     "name": "stdout",
     "output_type": "stream",
     "text": [
      "\n",
      "Nome: Francesco\n",
      "Età: 30\n",
      "Sesso: M\n"
     ]
    }
   ],
   "source": [
    "def show_user_info(name, age, sex):\n",
    "    print('\\nNome:', name)\n",
    "    print('Età:', age)\n",
    "    print('Sesso:', sex)\n",
    "    \n",
    "francesco = ['Francesco', 30, 'M']\n",
    "show_user_info(*francesco)"
   ]
  },
  {
   "cell_type": "markdown",
   "metadata": {},
   "source": [
    "Una funzione può chiamarne un'altra, come nel caso di print negli esempi precedenti. Attenzione all'ordine di dichiarazione."
   ]
  },
  {
   "cell_type": "code",
   "execution_count": 56,
   "metadata": {},
   "outputs": [
    {
     "name": "stdout",
     "output_type": "stream",
     "text": [
      "fun_1: sto chiamando fun_2\n",
      "fun_2: ciao!\n"
     ]
    }
   ],
   "source": [
    "def fun_2(arg):\n",
    "    print('fun_2:', arg)\n",
    "\n",
    "def fun_1(arg):\n",
    "    print('fun_1: sto chiamando fun_2')\n",
    "    fun_2(arg)\n",
    "    \n",
    "fun_1('ciao!')"
   ]
  },
  {
   "cell_type": "markdown",
   "metadata": {},
   "source": [
    "*Esercizio 1*\n",
    "---\n",
    "- costruire un database di utenti con campi a piacere; il primo deve essere il nome\n",
    "- scrivere una funzione che ordina gli utenti per nome e chiama show_contact_info per stamparne le info\n",
    "- testare il funzionamento con una chiamata"
   ]
  },
  {
   "cell_type": "code",
   "execution_count": 79,
   "metadata": {},
   "outputs": [
    {
     "name": "stdout",
     "output_type": "stream",
     "text": [
      "[('a', 20), ('b', 10), ('c', 5)]\n"
     ]
    }
   ],
   "source": [
    "#FILL ME\n",
    "lst = [('b', 10), ('a', 20), ('c', 5)]\n",
    "print(sorted(lst))#ordinamento rispetto al primo campo in liste miste"
   ]
  },
  {
   "cell_type": "markdown",
   "metadata": {},
   "source": [
    "*Esercizio 2*\n",
    "---\n",
    "Dato il database di utenti costruito all'Esercizio 1, scrivere una funzione che stampa SOLO i nomi degli utenti in ordine alfabetico, usando una comprensione di lista."
   ]
  },
  {
   "cell_type": "code",
   "execution_count": null,
   "metadata": {},
   "outputs": [],
   "source": [
    "#FILL ME"
   ]
  },
  {
   "cell_type": "markdown",
   "metadata": {},
   "source": [
    "Valore di ritorno\n",
    "---\n",
    "Oltre ad eseguire delle azioni, una funzione può restituire uno o più valori attraverso la keyword *return*."
   ]
  },
  {
   "cell_type": "code",
   "execution_count": 84,
   "metadata": {},
   "outputs": [
    {
     "name": "stdout",
     "output_type": "stream",
     "text": [
      "Eseguo il prodotto di 10 e 5.\n"
     ]
    },
    {
     "data": {
      "text/plain": [
       "50"
      ]
     },
     "execution_count": 84,
     "metadata": {},
     "output_type": "execute_result"
    }
   ],
   "source": [
    "def product(a, b):\n",
    "    print('Eseguo il prodotto di {} e {}.'.format(a, b))\n",
    "    return a*b\n",
    "\n",
    "product(10, 5)"
   ]
  },
  {
   "cell_type": "markdown",
   "metadata": {},
   "source": [
    "### Esercizio 3\n",
    "\n",
    "Immaginiamo di dover riempire il database di utenti da zero. Scrivere una funzione che, presi in ingresso il nuovo utente e il database:\n",
    "\n",
    "- stampa le informazioni dell'utente, usando show_user_info\n",
    "- aggiunge l'utente al database solo se è maggiorenne\n",
    "- restituisce il database aggiornato\n",
    "\n",
    "Inserire utenti maggiorenni e non e verificare con una stampa che il database contenga tutti e soli i maggiorenni inseriti."
   ]
  },
  {
   "cell_type": "code",
   "execution_count": null,
   "metadata": {},
   "outputs": [],
   "source": [
    "def show_and_add_if_adult(user, db):\n",
    "    #FILL ME\n",
    "\n",
    "adult_users = []#database\n",
    "\n",
    "adult_users = show_and_add_if_adult(['Francesco', 30, 'M'], adult_users)\n",
    "adult_users = show_and_add_if_adult(['Niccolò', 16, 'M'], adult_users)\n",
    "\n",
    "print(adult_users)"
   ]
  },
  {
   "cell_type": "markdown",
   "metadata": {},
   "source": [
    "### *Esercizio 4*\n",
    "\n",
    "Ripetere l'esercizio 3, ma utilizzando una funzione esterna per controllare se un utente è maggiorenne."
   ]
  },
  {
   "cell_type": "markdown",
   "metadata": {},
   "source": [
    "<script>\n",
    "  $(document).ready(function(){\n",
    "    $('div.back-to-top').hide();\n",
    "    $('nav#menubar').hide();\n",
    "    $('div.prompt').hide();\n",
    "    $('.hidden-print').hide();\n",
    "  });\n",
    "</script>\n",
    "\n",
    "<footer id=\"attribution\" style=\"float:right; color:#999; background:#fff;\">\n",
    "Created with Jupyter, delivered by Fastly, rendered by Rackspace.\n",
    "</footer>\n"
   ]
  }
 ],
 "metadata": {
  "kernelspec": {
   "display_name": "Python 3",
   "language": "python",
   "name": "python3"
  },
  "language_info": {
   "codemirror_mode": {
    "name": "ipython",
    "version": 3
   },
   "file_extension": ".py",
   "mimetype": "text/x-python",
   "name": "python",
   "nbconvert_exporter": "python",
   "pygments_lexer": "ipython3",
   "version": "3.6.5"
  }
 },
 "nbformat": 4,
 "nbformat_minor": 2
}
