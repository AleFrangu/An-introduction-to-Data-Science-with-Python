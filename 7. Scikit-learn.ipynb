{
 "cells": [
  {
   "cell_type": "markdown",
   "metadata": {},
   "source": [
    "*Contenuti*\n",
    "===\n",
    "- [Scikit-learn: machine learning con Python](#Scikit-learn:-machine-learning-con-Python)\n",
    "- [Un modello per la classificazione](#Un-modello-per-la-classificazione)"
   ]
  },
  {
   "cell_type": "markdown",
   "metadata": {},
   "source": [
    "Scikit-learn: machine learning con Python\n",
    "==="
   ]
  },
  {
   "cell_type": "markdown",
   "metadata": {},
   "source": [
    "*Scikit-learn* (o *sklearn*) è uno dei principali strumenti Python per il machine learning ed è la libreria open-source di data science più usata al mondo.\n",
    "\n",
    "Sulla pagina di sklearn, http://scikit-learn.org/stable/, si trovano svariati modelli di machine learning, insieme a strumenti di preprocessing, analisi e visualizzazione. \n",
    "\n",
    "Ciascuna implementazione fa riferimento ad una guida utente molto dettagliata, che associa al codice la teoria necessaria per capirlo ed usarlo:\n",
    "\n",
    "http://scikit-learn.org/stable/modules/generated/sklearn.neighbors.KNeighborsClassifier.html#sklearn.neighbors.KNeighborsClassifier.\n",
    "\n",
    "Oltre a fornire strumenti pronti all'uso che permettono di *usare* il machine learning con pochissime righe di codice, la libreria è altamente modulare, e dà la possibilità agli utenti di costruire la propria implementazione basandosi su metodi, oggetti ed interfacce esistenti.\n",
    "\n",
    "Teoria e codice sono spesso supportati da esempi pratici di utilizzo, affiancati da analisi grafiche: http://scikit-learn.org/stable/auto_examples/."
   ]
  },
  {
   "cell_type": "markdown",
   "metadata": {},
   "source": [
    "Un modello per la classificazione\n",
    "---\n",
    "Costruiamo un modello $K$-nearest neighbors (KNN) per la classificazione, utilizzando l'implementazione sklearn *KNeighborsClassifier*."
   ]
  },
  {
   "cell_type": "code",
   "execution_count": 52,
   "metadata": {},
   "outputs": [
    {
     "name": "stdout",
     "output_type": "stream",
     "text": [
      "<module 'sklearn.neighbors' from '/home/francesco/anaconda3/lib/python3.6/site-packages/sklearn/neighbors/__init__.py'>\n",
      "<module 'sklearn.datasets' from '/home/francesco/anaconda3/lib/python3.6/site-packages/sklearn/datasets/__init__.py'>\n"
     ]
    }
   ],
   "source": [
    "from sklearn import neighbors, datasets\n",
    "\n",
    "print(neighbors)\n",
    "print(datasets)"
   ]
  },
  {
   "cell_type": "markdown",
   "metadata": {},
   "source": [
    "*neighbors* e *datasets* sono due moduli, ovvero insiemi di oggetti con caratteristiche comuni, impacchettati insieme.\n",
    "\n",
    "Se scriviamo\n",
    "\n",
    "                neighbors.\n",
    "                \n",
    "e premiamo il tasto di autocomplemento possiamo dare un'occhiata agli oggetti contenuti nel modulo. Tra gli altri, vedremo KNeighborsClassifier."
   ]
  },
  {
   "cell_type": "code",
   "execution_count": 53,
   "metadata": {},
   "outputs": [
    {
     "name": "stdout",
     "output_type": "stream",
     "text": [
      "KNeighborsClassifier(algorithm='auto', leaf_size=30, metric='minkowski',\n",
      "           metric_params=None, n_jobs=1, n_neighbors=5, p=2,\n",
      "           weights='uniform')\n"
     ]
    }
   ],
   "source": [
    "model = neighbors.KNeighborsClassifier()\n",
    "print(model)"
   ]
  },
  {
   "cell_type": "markdown",
   "metadata": {},
   "source": [
    "Abbiamo chiamato un metodo speciale, chiamato *costrutture*, che inizializza (senza parametri) un oggetto di tipo KNeighborsClassifier. Possiamo vedere\n",
    "\n",
    "- dalla documentazione: http://scikit-learn.org/stable/modules/generated/sklearn.neighbors.KNeighborsClassifier.html\n",
    "- posizionando il puntatore del mouse dentro le parentesi del costruttore e premendo Shift e due volte Tab\n",
    "- stampando l'oggetto creato,\n",
    "\n",
    "che questa implementazione del classificatore KNN prende in ingresso diversi parametri (ma nessuno obbligatorio). Per esempio, il numero di vicini $k$ (chiamato *n_neighbors*) vale di default 5."
   ]
  },
  {
   "cell_type": "code",
   "execution_count": 54,
   "metadata": {},
   "outputs": [
    {
     "name": "stdout",
     "output_type": "stream",
     "text": [
      "KNeighborsClassifier(algorithm='auto', leaf_size=30, metric='minkowski',\n",
      "           metric_params=None, n_jobs=1, n_neighbors=3, p=2,\n",
      "           weights='uniform')\n",
      "k: 3\n"
     ]
    }
   ],
   "source": [
    "model = neighbors.KNeighborsClassifier(n_neighbors=3)\n",
    "print(model)\n",
    "print('k:', model.n_neighbors)"
   ]
  },
  {
   "cell_type": "markdown",
   "metadata": {},
   "source": [
    "Scikit-learn mette a disposizione diversi dataset, su cui fare apprendimento e testare un modello, attraverso il modulo datasets."
   ]
  },
  {
   "cell_type": "code",
   "execution_count": 55,
   "metadata": {},
   "outputs": [
    {
     "name": "stdout",
     "output_type": "stream",
     "text": [
      "<class 'sklearn.utils.Bunch'>\n"
     ]
    }
   ],
   "source": [
    "iris = datasets.load_iris()\n",
    "print(type(iris))"
   ]
  },
  {
   "cell_type": "markdown",
   "metadata": {},
   "source": [
    "Il tipo *Bunch* è molto simile a un dizionario. Oltre alla matrice delle feature e al vettore delle etichette, troviamo anche qualche informazione sul dataset."
   ]
  },
  {
   "cell_type": "code",
   "execution_count": 56,
   "metadata": {},
   "outputs": [
    {
     "name": "stdout",
     "output_type": "stream",
     "text": [
      "dict_keys(['data', 'target', 'target_names', 'DESCR', 'feature_names'])\n"
     ]
    }
   ],
   "source": [
    "print(iris.keys())"
   ]
  },
  {
   "cell_type": "code",
   "execution_count": 57,
   "metadata": {},
   "outputs": [
    {
     "name": "stdout",
     "output_type": "stream",
     "text": [
      "Labels: ['setosa' 'versicolor' 'virginica']\n",
      "\n",
      "Features: ['sepal length (cm)', 'sepal width (cm)', 'petal length (cm)', 'petal width (cm)']\n",
      "\n",
      "Description: Iris Plants Database\n",
      "====================\n",
      "\n",
      "Notes\n",
      "-----\n",
      "Data Set Characteristics:\n",
      "    :Number of Instances: 150 (50 in each of three classes)\n",
      "    :Number of Attributes: 4 numeric, predictive attributes and the class\n",
      "    :Attribute Information:\n",
      "        - sepal length in cm\n",
      "        - sepal width in cm\n",
      "        - petal length in cm\n",
      "        - petal width in cm\n",
      "        - class:\n",
      "                - Iris-Setosa\n",
      "                - Iris-Versicolour\n",
      "                - Iris-Virginica\n",
      "    :Summary Statistics:\n",
      "\n",
      "    ============== ==== ==== ======= ===== ====================\n",
      "                    Min  Max   Mean    SD   Class Correlation\n",
      "    ============== ==== ==== ======= ===== ====================\n",
      "    sepal length:   4.3  7.9   5.84   0.83    0.7826\n",
      "    sepal width:    2.0  4.4   3.05   0.43   -0.4194\n",
      "    petal length:   1.0  6.9   3.76   1.76    0.9490  (high!)\n",
      "    petal width:    0.1  2.5   1.20  0.76     0.9565  (high!)\n",
      "    ============== ==== ==== ======= ===== ====================\n",
      "\n",
      "    :Missing Attribute Values: None\n",
      "    :Class Distribution: 33.3% for each of 3 classes.\n",
      "    :Creator: R.A. Fisher\n",
      "    :Donor: Michael Marshall (MARSHALL%PLU@io.arc.nasa.gov)\n",
      "    :Date: July, 1988\n",
      "\n",
      "This is a copy of UCI ML iris datasets.\n",
      "http://archive.ics.uci.edu/ml/datasets/Iris\n",
      "\n",
      "The famous Iris database, first used by Sir R.A Fisher\n",
      "\n",
      "This is perhaps the best known database to be found in the\n",
      "pattern recognition literature.  Fisher's paper is a classic in the field and\n",
      "is referenced frequently to this day.  (See Duda & Hart, for example.)  The\n",
      "data set contains 3 classes of 50 instances each, where each class refers to a\n",
      "type of iris plant.  One class is linearly separable from the other 2; the\n",
      "latter are NOT linearly separable from each other.\n",
      "\n",
      "References\n",
      "----------\n",
      "   - Fisher,R.A. \"The use of multiple measurements in taxonomic problems\"\n",
      "     Annual Eugenics, 7, Part II, 179-188 (1936); also in \"Contributions to\n",
      "     Mathematical Statistics\" (John Wiley, NY, 1950).\n",
      "   - Duda,R.O., & Hart,P.E. (1973) Pattern Classification and Scene Analysis.\n",
      "     (Q327.D83) John Wiley & Sons.  ISBN 0-471-22361-1.  See page 218.\n",
      "   - Dasarathy, B.V. (1980) \"Nosing Around the Neighborhood: A New System\n",
      "     Structure and Classification Rule for Recognition in Partially Exposed\n",
      "     Environments\".  IEEE Transactions on Pattern Analysis and Machine\n",
      "     Intelligence, Vol. PAMI-2, No. 1, 67-71.\n",
      "   - Gates, G.W. (1972) \"The Reduced Nearest Neighbor Rule\".  IEEE Transactions\n",
      "     on Information Theory, May 1972, 431-433.\n",
      "   - See also: 1988 MLC Proceedings, 54-64.  Cheeseman et al\"s AUTOCLASS II\n",
      "     conceptual clustering system finds 3 classes in the data.\n",
      "   - Many, many more ...\n",
      "\n"
     ]
    }
   ],
   "source": [
    "print('Labels:', iris['target_names'])\n",
    "print('\\nFeatures:', iris['feature_names'])\n",
    "print('\\nDescription:', iris['DESCR'])"
   ]
  },
  {
   "cell_type": "code",
   "execution_count": 58,
   "metadata": {},
   "outputs": [
    {
     "name": "stdout",
     "output_type": "stream",
     "text": [
      "(150, 4)\n",
      "(150,)\n"
     ]
    }
   ],
   "source": [
    "X = iris['data']\n",
    "y = iris['target']\n",
    "print(X.shape)\n",
    "print(y.shape)"
   ]
  },
  {
   "cell_type": "code",
   "execution_count": 75,
   "metadata": {},
   "outputs": [
    {
     "name": "stdout",
     "output_type": "stream",
     "text": [
      "[4.9 3.1 1.5 0.1] 0\n",
      "[6.9 3.1 5.1 2.3] 2\n",
      "[5.  3.4 1.6 0.4] 0\n",
      "[4.8 3.4 1.9 0.2] 0\n",
      "[5.  3.  1.6 0.2] 0\n",
      "[6.7 2.5 5.8 1.8] 2\n",
      "[5.  3.5 1.3 0.3] 0\n",
      "[5.4 3.4 1.5 0.4] 0\n",
      "[5.  2.  3.5 1. ] 1\n",
      "[5.4 3.9 1.7 0.4] 0\n",
      "[6.2 2.8 4.8 1.8] 2\n",
      "[6.4 2.7 5.3 1.9] 2\n",
      "[4.7 3.2 1.6 0.2] 0\n",
      "[6.  2.7 5.1 1.6] 1\n",
      "[7.4 2.8 6.1 1.9] 2\n",
      "[6.3 2.5 5.  1.9] 2\n",
      "[5.5 2.3 4.  1.3] 1\n",
      "[4.9 3.1 1.5 0.1] 0\n",
      "[5.4 3.7 1.5 0.2] 0\n",
      "[5.8 2.7 5.1 1.9] 2\n",
      "[5.  3.4 1.5 0.2] 0\n",
      "[6.7 3.3 5.7 2.1] 2\n",
      "[4.4 2.9 1.4 0.2] 0\n",
      "[5.  3.2 1.2 0.2] 0\n",
      "[7.7 3.8 6.7 2.2] 2\n",
      "[5.5 2.6 4.4 1.2] 1\n",
      "[5.7 2.5 5.  2. ] 2\n",
      "[6.8 3.2 5.9 2.3] 2\n",
      "[5.8 4.  1.2 0.2] 0\n",
      "[6.5 3.  5.8 2.2] 2\n",
      "[6.3 2.3 4.4 1.3] 1\n",
      "[5.8 2.7 3.9 1.2] 1\n",
      "[6.9 3.2 5.7 2.3] 2\n",
      "[6.5 3.  5.5 1.8] 2\n",
      "[7.7 3.  6.1 2.3] 2\n",
      "[7.  3.2 4.7 1.4] 1\n",
      "[6.6 2.9 4.6 1.3] 1\n",
      "[5.4 3.9 1.3 0.4] 0\n",
      "[5.  2.3 3.3 1. ] 1\n",
      "[5.1 3.4 1.5 0.2] 0\n",
      "[5.7 2.8 4.5 1.3] 1\n",
      "[6.4 2.9 4.3 1.3] 1\n",
      "[6.  2.2 4.  1. ] 1\n",
      "[6.3 2.5 4.9 1.5] 1\n",
      "[6.4 3.2 5.3 2.3] 2\n",
      "[6.  3.  4.8 1.8] 2\n",
      "[4.5 2.3 1.3 0.3] 0\n",
      "[5.4 3.4 1.7 0.2] 0\n",
      "[5.3 3.7 1.5 0.2] 0\n",
      "[5.6 3.  4.5 1.5] 1\n",
      "[6.4 3.1 5.5 1.8] 2\n",
      "[5.  3.3 1.4 0.2] 0\n",
      "[7.7 2.8 6.7 2. ] 2\n",
      "[5.1 3.3 1.7 0.5] 0\n",
      "[6.5 2.8 4.6 1.5] 1\n",
      "[6.2 2.2 4.5 1.5] 1\n",
      "[6.1 3.  4.9 1.8] 2\n",
      "[6.2 3.4 5.4 2.3] 2\n",
      "[6.8 3.  5.5 2.1] 2\n",
      "[4.3 3.  1.1 0.1] 0\n",
      "[6.3 3.3 6.  2.5] 2\n",
      "[7.6 3.  6.6 2.1] 2\n",
      "[6.3 2.7 4.9 1.8] 2\n",
      "[6.  2.9 4.5 1.5] 1\n",
      "[5.4 3.  4.5 1.5] 1\n",
      "[6.3 2.8 5.1 1.5] 2\n",
      "[5.  3.5 1.6 0.6] 0\n",
      "[6.3 3.3 4.7 1.6] 1\n",
      "[5.5 3.5 1.3 0.2] 0\n",
      "[5.7 3.8 1.7 0.3] 0\n",
      "[6.4 2.8 5.6 2.2] 2\n",
      "[5.9 3.  4.2 1.5] 1\n",
      "[4.8 3.4 1.6 0.2] 0\n",
      "[4.9 2.5 4.5 1.7] 2\n",
      "[7.7 2.6 6.9 2.3] 2\n",
      "[6.  3.4 4.5 1.6] 1\n",
      "[6.5 3.  5.2 2. ] 2\n",
      "[5.6 2.8 4.9 2. ] 2\n",
      "[6.1 2.8 4.7 1.2] 1\n",
      "[4.6 3.1 1.5 0.2] 0\n",
      "[6.  2.2 5.  1.5] 2\n",
      "[5.5 2.5 4.  1.3] 1\n",
      "[4.8 3.1 1.6 0.2] 0\n",
      "[5.1 2.5 3.  1.1] 1\n",
      "[4.6 3.4 1.4 0.3] 0\n",
      "[4.8 3.  1.4 0.1] 0\n",
      "[6.3 2.9 5.6 1.8] 2\n",
      "[7.2 3.  5.8 1.6] 2\n",
      "[7.3 2.9 6.3 1.8] 2\n",
      "[5.1 3.7 1.5 0.4] 0\n",
      "[5.2 4.1 1.5 0.1] 0\n",
      "[7.9 3.8 6.4 2. ] 2\n",
      "[4.4 3.  1.3 0.2] 0\n",
      "[5.8 2.7 5.1 1.9] 2\n",
      "[6.7 3.  5.2 2.3] 2\n",
      "[5.8 2.7 4.1 1. ] 1\n",
      "[6.1 2.6 5.6 1.4] 2\n",
      "[5.1 3.5 1.4 0.3] 0\n",
      "[5.6 2.5 3.9 1.1] 1\n",
      "[6.6 3.  4.4 1.4] 1\n",
      "[5.2 3.5 1.5 0.2] 0\n",
      "[6.1 2.9 4.7 1.4] 1\n",
      "[6.8 2.8 4.8 1.4] 1\n",
      "[5.7 4.4 1.5 0.4] 0\n",
      "[5.7 3.  4.2 1.2] 1\n",
      "[6.4 2.8 5.6 2.1] 2\n",
      "[6.7 3.1 5.6 2.4] 2\n",
      "[6.4 3.2 4.5 1.5] 1\n",
      "[6.1 3.  4.6 1.4] 1\n",
      "[5.2 2.7 3.9 1.4] 1\n",
      "[4.9 3.  1.4 0.2] 0\n",
      "[5.9 3.  5.1 1.8] 2\n",
      "[4.7 3.2 1.3 0.2] 0\n",
      "[5.7 2.8 4.1 1.3] 1\n",
      "[5.7 2.9 4.2 1.3] 1\n",
      "[5.5 2.4 3.7 1. ] 1\n",
      "[4.6 3.2 1.4 0.2] 0\n",
      "[5.5 4.2 1.4 0.2] 0\n",
      "[4.6 3.6 1.  0.2] 0\n",
      "[4.9 3.1 1.5 0.1] 0\n",
      "[5.9 3.2 4.8 1.8] 1\n",
      "[5.6 3.  4.1 1.3] 1\n",
      "[6.5 3.2 5.1 2. ] 2\n",
      "[6.9 3.1 4.9 1.5] 1\n",
      "[5.1 3.8 1.6 0.2] 0\n",
      "[6.9 3.1 5.4 2.1] 2\n",
      "[4.4 3.2 1.3 0.2] 0\n",
      "[5.1 3.5 1.4 0.2] 0\n",
      "[7.2 3.2 6.  1.8] 2\n",
      "[5.  3.6 1.4 0.2] 0\n",
      "[6.7 3.  5.  1.7] 1\n",
      "[5.6 2.7 4.2 1.3] 1\n",
      "[5.6 2.9 3.6 1.3] 1\n",
      "[5.5 2.4 3.8 1.1] 1\n",
      "[5.2 3.4 1.4 0.2] 0\n",
      "[5.8 2.8 5.1 2.4] 2\n",
      "[5.1 3.8 1.5 0.3] 0\n",
      "[6.1 2.8 4.  1.3] 1\n",
      "[6.3 3.4 5.6 2.4] 2\n",
      "[6.7 3.1 4.4 1.4] 1\n",
      "[4.9 2.4 3.3 1. ] 1\n",
      "[6.7 3.1 4.7 1.5] 1\n",
      "[4.8 3.  1.4 0.3] 0\n",
      "[5.1 3.8 1.9 0.4] 0\n",
      "[5.7 2.6 3.5 1. ] 1\n",
      "[7.2 3.6 6.1 2.5] 2\n",
      "[6.2 2.9 4.3 1.3] 1\n",
      "[6.7 3.3 5.7 2.5] 2\n",
      "[7.1 3.  5.9 2.1] 2\n",
      "[5.8 2.6 4.  1.2] 1\n"
     ]
    }
   ],
   "source": [
    "for i, x in enumerate(X) : print(x, y[i])"
   ]
  },
  {
   "cell_type": "code",
   "execution_count": 60,
   "metadata": {},
   "outputs": [
    {
     "name": "stdout",
     "output_type": "stream",
     "text": [
      "[50 50 50]\n"
     ]
    }
   ],
   "source": [
    "import numpy as np\n",
    "\n",
    "print(np.bincount(y))"
   ]
  },
  {
   "cell_type": "markdown",
   "metadata": {},
   "source": [
    "Dividiamo i dati in training e test set. Per prima cosa, mischiamo (coerentemente) i dati in modo casuale col metodo *shuffle*."
   ]
  },
  {
   "cell_type": "code",
   "execution_count": 61,
   "metadata": {},
   "outputs": [
    {
     "name": "stdout",
     "output_type": "stream",
     "text": [
      "[4.9 3.1 1.5 0.1] 0\n",
      "[6.9 3.1 5.1 2.3] 2\n",
      "[5.  3.4 1.6 0.4] 0\n",
      "[4.8 3.4 1.9 0.2] 0\n",
      "[5.  3.  1.6 0.2] 0\n",
      "[6.7 2.5 5.8 1.8] 2\n",
      "[5.  3.5 1.3 0.3] 0\n",
      "[5.4 3.4 1.5 0.4] 0\n",
      "[5.  2.  3.5 1. ] 1\n",
      "[5.4 3.9 1.7 0.4] 0\n"
     ]
    }
   ],
   "source": [
    "from sklearn.utils import shuffle\n",
    "\n",
    "X, y = shuffle(X, y)\n",
    "for i, x in enumerate(X[:10]) : print(x, y[i])"
   ]
  },
  {
   "cell_type": "code",
   "execution_count": 62,
   "metadata": {},
   "outputs": [
    {
     "name": "stdout",
     "output_type": "stream",
     "text": [
      "150 50\n"
     ]
    }
   ],
   "source": [
    "n_train = int(X.shape[0]/3)\n",
    "print(X.shape[0], n_train)"
   ]
  },
  {
   "cell_type": "markdown",
   "metadata": {},
   "source": [
    "Prendiamo due terzi degli esempi per l'addestramento, e i restanti per il test."
   ]
  },
  {
   "cell_type": "code",
   "execution_count": 63,
   "metadata": {},
   "outputs": [
    {
     "name": "stdout",
     "output_type": "stream",
     "text": [
      "True\n"
     ]
    }
   ],
   "source": [
    "X_train = X[:n_train]#i primi n_train esempi (righe)\n",
    "X_test = X[n_train:]#le altre\n",
    "print(X_train.shape[0] + X_test.shape[0] == X.shape[0])"
   ]
  },
  {
   "cell_type": "markdown",
   "metadata": {},
   "source": [
    "Analogamente per le etichette."
   ]
  },
  {
   "cell_type": "code",
   "execution_count": 64,
   "metadata": {},
   "outputs": [
    {
     "name": "stdout",
     "output_type": "stream",
     "text": [
      "True\n"
     ]
    }
   ],
   "source": [
    "y_train, y_test = y[:n_train], y[n_train:]\n",
    "print(y_train.shape[0] + y_test.shape[0] == y.shape[0])"
   ]
  },
  {
   "cell_type": "markdown",
   "metadata": {},
   "source": [
    "Tramite il metodo *fit* addestriamo il modello sui dati di apprendimento. Il metodo opera in-place e retituisce il modello addestrato."
   ]
  },
  {
   "cell_type": "code",
   "execution_count": 65,
   "metadata": {},
   "outputs": [
    {
     "data": {
      "text/plain": [
       "KNeighborsClassifier(algorithm='auto', leaf_size=30, metric='minkowski',\n",
       "           metric_params=None, n_jobs=1, n_neighbors=3, p=2,\n",
       "           weights='uniform')"
      ]
     },
     "execution_count": 65,
     "metadata": {},
     "output_type": "execute_result"
    }
   ],
   "source": [
    "model.fit(X_train, y_train)"
   ]
  },
  {
   "cell_type": "markdown",
   "metadata": {},
   "source": [
    "Una volta addestrato, usiamo il modello per predire la classe degli esempi nel test set."
   ]
  },
  {
   "cell_type": "code",
   "execution_count": 69,
   "metadata": {},
   "outputs": [
    {
     "name": "stdout",
     "output_type": "stream",
     "text": [
      "(100,)\n",
      "(100, 4)\n"
     ]
    }
   ],
   "source": [
    "predictions = model.predict(X_test)\n",
    "print(predictions.shape)\n",
    "print(X_test.shape)"
   ]
  },
  {
   "cell_type": "markdown",
   "metadata": {},
   "source": [
    "Infine, valutiamo le prestazioni (per esempio, l'accuratezza) del modello addestrato sull'insieme di test."
   ]
  },
  {
   "cell_type": "code",
   "execution_count": 73,
   "metadata": {},
   "outputs": [
    {
     "name": "stdout",
     "output_type": "stream",
     "text": [
      "Model accuracy on test set: 0.92\n"
     ]
    }
   ],
   "source": [
    "from sklearn.metrics import accuracy_score\n",
    "\n",
    "print('Model accuracy on test set:', accuracy_score(y_test, predictions))"
   ]
  },
  {
   "cell_type": "markdown",
   "metadata": {},
   "source": [
    "Gli ultimi due passaggi possono essere fatti in un colpo solo col metodo *score* esposto dal modello (addestrato)."
   ]
  },
  {
   "cell_type": "code",
   "execution_count": 74,
   "metadata": {},
   "outputs": [
    {
     "name": "stdout",
     "output_type": "stream",
     "text": [
      "Model accuracy on test set: 0.92\n"
     ]
    }
   ],
   "source": [
    "print('Model accuracy on test set:', model.score(X_test, y_test))"
   ]
  },
  {
   "cell_type": "code",
   "execution_count": 66,
   "metadata": {},
   "outputs": [],
   "source": [
    "#sklearn scaling\n",
    "#alberi di decisione\n",
    "#svm"
   ]
  },
  {
   "cell_type": "markdown",
   "metadata": {},
   "source": [
    "<script>\n",
    "  $(document).ready(function(){\n",
    "    $('div.back-to-top').hide();\n",
    "    $('nav#menubar').hide();\n",
    "    $('div.prompt').hide();\n",
    "    $('.hidden-print').hide();\n",
    "  });\n",
    "</script>\n",
    "\n",
    "<footer id=\"attribution\" style=\"float:right; color:#999; background:#fff;\">\n",
    "Created with Jupyter, delivered by Fastly, rendered by Rackspace.\n",
    "</footer>"
   ]
  }
 ],
 "metadata": {
  "kernelspec": {
   "display_name": "Python 3",
   "language": "python",
   "name": "python3"
  },
  "language_info": {
   "codemirror_mode": {
    "name": "ipython",
    "version": 3
   },
   "file_extension": ".py",
   "mimetype": "text/x-python",
   "name": "python",
   "nbconvert_exporter": "python",
   "pygments_lexer": "ipython3",
   "version": "3.6.5"
  }
 },
 "nbformat": 4,
 "nbformat_minor": 2
}
