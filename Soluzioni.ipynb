{
 "cells": [
  {
   "cell_type": "markdown",
   "metadata": {},
   "source": [
    "- [3.1](#3.1)\n",
    "- [3.2](#3.2)\n",
    "- [4.1, 4.2](#4.1,-4.2)\n",
    "- [5.1, 5.2, 5.3](#5.1,-5.2,-5.3)\n",
    "- [5.4, 5.5](#5.4,-5.5)\n",
    "- [6.2](#6.2)\n",
    "- [6.3](#6.3)\n",
    "- [6.4](#6.4)\n",
    "- [KNN1](#KNN1)\n",
    "- [KNN2](#KNN2)"
   ]
  },
  {
   "cell_type": "markdown",
   "metadata": {},
   "source": [
    "3.1\n",
    "---"
   ]
  },
  {
   "cell_type": "code",
   "execution_count": 84,
   "metadata": {},
   "outputs": [
    {
     "name": "stdout",
     "output_type": "stream",
     "text": [
      "Mount Everest è alta 8858\n",
      "K2 è alta 8611\n",
      "Kangchenjunga è alta 8586\n",
      "La montagna numero 1 è K2 ed è alta 8611\n",
      "La montagna numero 2 è Kangchenjunga ed è alta 8586\n",
      "La montagna numero 3 è Mount Everest ed è alta 8858\n"
     ]
    }
   ],
   "source": [
    "heights = {}\n",
    "heights['Mount Everest'] = 8858\n",
    "heights['K2'] = 8611\n",
    "heights['Kangchenjunga'] = 8586\n",
    "\n",
    "for mountain, height in heights.items():\n",
    "    print('{} è alta {}'.format(mountain, height))\n",
    "    \n",
    "for i, mountain in enumerate(sorted(heights.keys())):\n",
    "    print('La montagna numero {} è {} ed è alta {}'.format(i+1, mountain, heights[mountain]))"
   ]
  },
  {
   "cell_type": "markdown",
   "metadata": {},
   "source": [
    "3.2\n",
    "---"
   ]
  },
  {
   "cell_type": "code",
   "execution_count": 85,
   "metadata": {},
   "outputs": [
    {
     "name": "stdout",
     "output_type": "stream",
     "text": [
      "La montagna numero 0 è Mount Everest, è alta 8858 e si trova in Nepal\n",
      "La montagna numero 1 è K2, è alta 8611 e si trova in Pakistan\n",
      "La montagna numero 2 è Kangchenjunga, è alta 8586 e si trova in Nepal\n"
     ]
    }
   ],
   "source": [
    "mountains = []\n",
    "\n",
    "mountains += [{'name':'Mount Everest', 'height':8858, 'country':'Nepal'}]\n",
    "mountains += [{'name':'K2', 'height':8611, 'country':'Pakistan'}]\n",
    "mountains += [{'name':'Kangchenjunga', 'height':8586, 'country':'Nepal'}]\n",
    "\n",
    "for i, m in enumerate(mountains):\n",
    "    print('La montagna numero {} è {}, è alta {} e si trova in {}'.format(i,\n",
    "                                                                          m['name'],\n",
    "                                                                          m['height'],\n",
    "                                                                          m['country']))"
   ]
  },
  {
   "cell_type": "code",
   "execution_count": 86,
   "metadata": {},
   "outputs": [
    {
     "name": "stdout",
     "output_type": "stream",
     "text": [
      "{'Mount Everest': 8858, 'K2': 8611, 'Kangchenjunga': 8586}\n"
     ]
    }
   ],
   "source": [
    "mountain_names = [m['name'] for m in mountains]\n",
    "mountain_heights = [m['height'] for m in mountains]\n",
    "\n",
    "heights = {}\n",
    "\n",
    "for i,n in enumerate(mountain_names):\n",
    "    heights[n] = mountain_heights[i]\n",
    "    \n",
    "print(heights)"
   ]
  },
  {
   "cell_type": "markdown",
   "metadata": {},
   "source": [
    "4.1, 4.2\n",
    "---"
   ]
  },
  {
   "cell_type": "code",
   "execution_count": 87,
   "metadata": {},
   "outputs": [
    {
     "name": "stdout",
     "output_type": "stream",
     "text": [
      "Il quadrato di 3 è 9, che è multiplo di 3 ma non di 2\n",
      "Il quadrato di 6 è 36, che è multiplo sia di 2 che di 3\n",
      "Il quadrato di 5 è 25, che non è multiplo né di 2 né di 3\n",
      "Il quadrato di 8 è 64, che è multiplo di 2 ma non di 3\n",
      "Il quadrato di 12 è 144, che è multiplo sia di 2 che di 3\n",
      "\n",
      "*******************\n",
      "\n",
      "[36, 64, 144]\n",
      "[9, 36, 144]\n",
      "[64]\n"
     ]
    }
   ],
   "source": [
    "lst = [3,6,5,8,12]\n",
    "\n",
    "for element in lst:\n",
    "    if element**2 % 2 == 0 and element**2 % 3 == 0:\n",
    "        print('Il quadrato di %d è %d, che è multiplo sia di 2 che di 3' % (element, element**2))\n",
    "    elif element**2 % 2 == 0:\n",
    "        print('Il quadrato di %d è %d, che è multiplo di 2 ma non di 3' % (element, element**2))\n",
    "    elif element**2 % 3 == 0:\n",
    "        print('Il quadrato di %d è %d, che è multiplo di 3 ma non di 2' % (element, element**2))\n",
    "    else:\n",
    "        print('Il quadrato di %d è %d, che non è multiplo né di 2 né di 3' %  (element, element**2))\n",
    "        \n",
    "print('\\n*******************\\n')\n",
    "\n",
    "multiples_of_2 = [element**2 for element in lst if element**2 % 2 == 0]\n",
    "multiples_of_3 = [element**2 for element in lst if element**2 % 3 == 0]\n",
    "multiples_of_2_and_not_of_3 = [element**2 for element in lst if element**2 % 2 == 0 and not element**2 % 3 == 0]\n",
    "\n",
    "print(multiples_of_2)\n",
    "print(multiples_of_3)\n",
    "print(multiples_of_2_and_not_of_3)"
   ]
  },
  {
   "cell_type": "markdown",
   "metadata": {},
   "source": [
    "5.1, 5.2, 5.3\n",
    "---"
   ]
  },
  {
   "cell_type": "code",
   "execution_count": 88,
   "metadata": {},
   "outputs": [
    {
     "name": "stdout",
     "output_type": "stream",
     "text": [
      "Lista utenti per età:\n",
      "\n",
      "Nome: Elisa\n",
      "Età: 27\n",
      "Sesso: F\n",
      "\n",
      "Nome: Francesco\n",
      "Età: 30\n",
      "Sesso: M\n",
      "\n",
      "Nome: Michael\n",
      "Età: 30\n",
      "Sesso: M\n",
      "\n",
      "Nome: Giovanni\n",
      "Età: 68\n",
      "Sesso: M\n",
      "\n",
      "*****************************\n",
      "\n",
      "Lista utenti per età:\n",
      "\n",
      "Nome: Elisa\n",
      "Età: 27\n",
      "Sesso: F\n",
      "\n",
      "Nome: Francesco\n",
      "Età: 30\n",
      "Sesso: M\n",
      "\n",
      "Nome: Michael\n",
      "Età: 30\n",
      "Sesso: M\n",
      "\n",
      "Nome: Giovanni\n",
      "Età: 68\n",
      "Sesso: M\n",
      "\n",
      "*****************************\n",
      "\n",
      "Lista utenti per nome:\n",
      "\n",
      "Nome: Elisa\n",
      "Età: 27\n",
      "Sesso: F\n",
      "\n",
      "Nome: Francesco\n",
      "Età: 30\n",
      "Sesso: M\n",
      "\n",
      "Nome: Giovanni\n",
      "Età: 68\n",
      "Sesso: M\n",
      "\n",
      "Nome: Michael\n",
      "Età: 30\n",
      "Sesso: M\n",
      "\n",
      "*****************************\n",
      "\n",
      "Lista dei nomi degli utenti in ordine alfabetico:\n",
      "\n",
      "Elisa\n",
      "Francesco\n",
      "Giovanni\n",
      "Michael\n"
     ]
    }
   ],
   "source": [
    "def show_user_info(user):\n",
    "    print('\\nNome:', user['name'])\n",
    "    print('Età:', user['age'])\n",
    "    print('Sesso:', user['sex'])\n",
    "\n",
    "def show_all_users_by_age(users):\n",
    "    for s in sorted(users, key = lambda x : x['age']):\n",
    "        show_user_info(s)\n",
    "        \n",
    "def show_all_users_by_field(users, field='name'):\n",
    "    for s in sorted(users, key = lambda x : x[field]):\n",
    "        show_user_info(s)\n",
    "        \n",
    "def show_names_alphabetically(users):\n",
    "    for name in sorted([u['name'] for u in users]):\n",
    "        print(name)\n",
    "    \n",
    "francesco = {'name':'Francesco', 'age':30, 'sex':'M'}\n",
    "giovanni = {'name':'Giovanni', 'age':68, 'sex':'M'}\n",
    "elisa = {'name':'Elisa', 'age':27, 'sex':'F'}\n",
    "michael = {'name':'Michael', 'age':30, 'sex':'M'}\n",
    "\n",
    "users = [francesco, giovanni, elisa, michael]\n",
    "\n",
    "print('Lista utenti per età:')\n",
    "show_all_users_by_age(users)\n",
    "print('\\n*****************************')\n",
    "\n",
    "print('\\nLista utenti per età:')\n",
    "show_all_users_by_field(users, field='age')\n",
    "print('\\n*****************************')\n",
    "\n",
    "print('\\nLista utenti per nome:')\n",
    "show_all_users_by_field(users)\n",
    "print('\\n*****************************')\n",
    "\n",
    "print('\\nLista dei nomi degli utenti in ordine alfabetico:\\n')\n",
    "show_names_alphabetically(users)"
   ]
  },
  {
   "cell_type": "markdown",
   "metadata": {},
   "source": [
    "5.4, 5.5\n",
    "---"
   ]
  },
  {
   "cell_type": "code",
   "execution_count": 89,
   "metadata": {},
   "outputs": [
    {
     "name": "stdout",
     "output_type": "stream",
     "text": [
      "\n",
      "Tutti gli utenti:\n",
      "\n",
      "Nome: Francesco\n",
      "Età: 30\n",
      "Sesso: M\n",
      "\n",
      "Nome: Giovanni\n",
      "Età: 68\n",
      "Sesso: M\n",
      "\n",
      "Nome: Giulia\n",
      "Età: 16\n",
      "Sesso: F\n",
      "\n",
      "*****************************\n",
      "\n",
      "Utenti maggiorenni:\n",
      "\n",
      "Nome: Francesco\n",
      "Età: 30\n",
      "Sesso: M\n",
      "\n",
      "Nome: Giovanni\n",
      "Età: 68\n",
      "Sesso: M\n"
     ]
    }
   ],
   "source": [
    "def is_adult(user):\n",
    "    return user['age'] >= 18\n",
    "\n",
    "def show_and_add_if_adult(user, db):\n",
    "    show_user_info(user)\n",
    "    #5.4\n",
    "    #return db + [user] if user['age'] >= 18 else db\n",
    "    #5.5\n",
    "    return db + [user] if is_adult(user) else db\n",
    "\n",
    "adult_users = []#database\n",
    "\n",
    "print('\\nTutti gli utenti:')\n",
    "adult_users = show_and_add_if_adult({'name':'Francesco', 'age':30, 'sex':'M'}, adult_users)\n",
    "adult_users = show_and_add_if_adult({'name':'Giovanni', 'age':68, 'sex':'M'}, adult_users)\n",
    "adult_users = show_and_add_if_adult({'name':'Giulia', 'age':16, 'sex':'F'}, adult_users)\n",
    "print('\\n*****************************')\n",
    "\n",
    "print('\\nUtenti maggiorenni:')\n",
    "for a in adult_users : show_user_info(a)"
   ]
  },
  {
   "cell_type": "markdown",
   "metadata": {},
   "source": [
    "6.2\n",
    "---"
   ]
  },
  {
   "cell_type": "code",
   "execution_count": 90,
   "metadata": {},
   "outputs": [
    {
     "name": "stdout",
     "output_type": "stream",
     "text": [
      "0.999134485262745\n",
      "0.9991344852627513\n",
      "342 ms ± 17.8 ms per loop (mean ± std. dev. of 7 runs, 1 loop each)\n",
      "2.79 ms ± 213 µs per loop (mean ± std. dev. of 7 runs, 100 loops each)\n"
     ]
    }
   ],
   "source": [
    "import numpy as np\n",
    "import numpy.random as rdm\n",
    "from math import sqrt\n",
    "\n",
    "def py_std(X):\n",
    "    X_mean = sum(X) / len(X)\n",
    "    return sqrt(sum((x-X_mean)**2 for x in X) / len(X))\n",
    "\n",
    "large_array = rdm.normal(size=(1000000,))\n",
    "\n",
    "print(py_std(large_array))\n",
    "print(np.std(large_array))\n",
    "%timeit py_std(large_array)\n",
    "%timeit np.std(large_array)"
   ]
  },
  {
   "cell_type": "markdown",
   "metadata": {},
   "source": [
    "6.3\n",
    "---"
   ]
  },
  {
   "cell_type": "code",
   "execution_count": 91,
   "metadata": {},
   "outputs": [
    {
     "name": "stdout",
     "output_type": "stream",
     "text": [
      "[[[199 105 118 252  23]\n",
      "  [ 32 190  83 184 122]\n",
      "  [ 57  13   5  10 225]\n",
      "  [250 197  93 184  59]\n",
      "  [117  25  79 180  51]]\n",
      "\n",
      " [[166 218  12  71 253]\n",
      "  [ 96 213 162  37 246]\n",
      "  [109 119 179 185 218]\n",
      "  [ 82  81  33 113 108]\n",
      "  [  6 232 149  92 195]]\n",
      "\n",
      " [[245 189  26  47  91]\n",
      "  [191  45  38 157 125]\n",
      "  [188  14  89 185 189]\n",
      "  [112  60 206 177  14]\n",
      "  [118 135   9 231  60]]\n",
      "\n",
      " ...\n",
      "\n",
      " [[ 33 200 170 220 252]\n",
      "  [132 159 215 100  26]\n",
      "  [223  95  49 225 169]\n",
      "  [115 239 139  32  45]\n",
      "  [177  33  96  40 235]]\n",
      "\n",
      " [[143 109  15  37  16]\n",
      "  [111  54  82  78  43]\n",
      "  [ 95 133 156 128 107]\n",
      "  [212  79 141  53 137]\n",
      "  [ 97 102 107 231  45]]\n",
      "\n",
      " [[188 153 254 223 233]\n",
      "  [239 220  14 206  58]\n",
      "  [182 178  88  74  78]\n",
      "  [ 94  60  57  99 230]\n",
      "  [103 111 180 163 213]]]\n"
     ]
    }
   ],
   "source": [
    "import numpy as np\n",
    "import numpy.random as rdm\n",
    "\n",
    "n_frames = 50\n",
    "n_pixel_x = 5\n",
    "n_pixel_y = 5\n",
    "movie = rdm.randint(256, size=(n_frames, n_pixel_x, n_pixel_y))\n",
    "print(movie)"
   ]
  },
  {
   "cell_type": "code",
   "execution_count": 92,
   "metadata": {},
   "outputs": [
    {
     "name": "stdout",
     "output_type": "stream",
     "text": [
      "(50, 5, 5)\n"
     ]
    }
   ],
   "source": [
    "print(movie.shape)"
   ]
  },
  {
   "cell_type": "code",
   "execution_count": 93,
   "metadata": {},
   "outputs": [
    {
     "name": "stdout",
     "output_type": "stream",
     "text": [
      "[[135.54 115.88 128.8  120.28 125.7 ]\n",
      " [143.14 133.44 117.78 127.32 129.2 ]\n",
      " [125.18 129.34 110.64 129.16 136.16]\n",
      " [138.04 126.92 131.84 140.36 131.34]\n",
      " [119.04 123.2  127.08 138.56 143.46]]\n",
      "(5, 5)\n"
     ]
    }
   ],
   "source": [
    "pixel_mean_intensity = np.mean(movie, axis=0)\n",
    "print(pixel_mean_intensity)\n",
    "print(pixel_mean_intensity.shape)"
   ]
  },
  {
   "cell_type": "markdown",
   "metadata": {},
   "source": [
    "6.4\n",
    "---"
   ]
  },
  {
   "cell_type": "code",
   "execution_count": 94,
   "metadata": {},
   "outputs": [
    {
     "name": "stdout",
     "output_type": "stream",
     "text": [
      "3.002138317145509 3.002138317145509\n"
     ]
    }
   ],
   "source": [
    "import numpy as np\n",
    "import numpy.random as rdm\n",
    "\n",
    "values = rdm.normal(5, 3, 1000000)\n",
    "\n",
    "values -= 5\n",
    "residuals = values - np.mean(values)\n",
    "squared_residuals = residuals**2\n",
    "variance = np.sum(squared_residuals) / values.size\n",
    "print(np.std(values), np.sqrt(variance))"
   ]
  },
  {
   "cell_type": "markdown",
   "metadata": {},
   "source": [
    "6.5\n",
    "---"
   ]
  },
  {
   "cell_type": "code",
   "execution_count": 95,
   "metadata": {},
   "outputs": [
    {
     "name": "stdout",
     "output_type": "stream",
     "text": [
      "Matrice delle feature: [[0.5488135  0.71518937 0.60276338 0.54488318]\n",
      " [0.4236548  0.64589411 0.43758721 0.891773  ]\n",
      " [0.96366276 0.38344152 0.79172504 0.52889492]\n",
      " [0.56804456 0.92559664 0.07103606 0.0871293 ]\n",
      " [0.0202184  0.83261985 0.77815675 0.87001215]\n",
      " [0.97861834 0.79915856 0.46147936 0.78052918]\n",
      " [0.11827443 0.63992102 0.14335329 0.94466892]]\n",
      "\n",
      "Vettore delle etichette: [1 0 0 1 1 0 1]\n",
      "\n",
      "Nuovo esempio da classificare: [0.73691818 0.21655035 0.13521817 0.32414101]\n",
      "\n",
      "Predizione (k=3): 1\n",
      "Predizione (k=5): 0\n"
     ]
    }
   ],
   "source": [
    "import numpy as np\n",
    "from numpy.linalg import norm\n",
    "\n",
    "np.random.seed(0)\n",
    "\n",
    "def KNN(k, X, y, x):\n",
    "    distances = norm(X_train - x_new, axis=1)\n",
    "    sorted_labels = y_train[distances.argsort()]\n",
    "    return np.argmax(np.bincount(sorted_labels[:k]))\n",
    "\n",
    "def one_line_KNN(k, X, y, x):\n",
    "    return np.argmax(np.bincount(y_train[norm(X_train - x_new, axis=1).argsort()][:k]))\n",
    "\n",
    "X_train = np.random.random((7,4))\n",
    "y_train = np.random.randint(0, 2, (7))\n",
    "x_new = np.random.random(4)\n",
    "\n",
    "print('Matrice delle feature:', X_train)\n",
    "\n",
    "print('\\nVettore delle etichette:', y_train)\n",
    "\n",
    "print('\\nNuovo esempio da classificare:', x_new)\n",
    "\n",
    "print('\\nPredizione (k=3):', one_line_KNN(3, X_train, y_train, x_new))\n",
    "print('Predizione (k=5):', one_line_KNN(5, X_train, y_train, x_new))"
   ]
  },
  {
   "cell_type": "markdown",
   "metadata": {},
   "source": [
    "KNN1\n",
    "---"
   ]
  },
  {
   "cell_type": "code",
   "execution_count": 96,
   "metadata": {},
   "outputs": [
    {
     "name": "stdout",
     "output_type": "stream",
     "text": [
      "[[ 1  2  3]\n",
      " [ 0  2 -1]\n",
      " [-1  2  3]\n",
      " [ 3  1  3]]\n",
      "[0 1 0 1]\n",
      "[1 1 2]\n"
     ]
    }
   ],
   "source": [
    "import numpy as np\n",
    "\n",
    "X_train = np.array([[1,2,3],\n",
    "                    [0,2,-1],\n",
    "                    [-1,2,3],\n",
    "                    [3,1,3]])\n",
    "\n",
    "x_new = np.array([1,1,2])\n",
    "\n",
    "y_train = np.array([0,1,0,1])\n",
    "\n",
    "print(X_train)\n",
    "print(y_train)\n",
    "print(x_new)"
   ]
  },
  {
   "cell_type": "code",
   "execution_count": 97,
   "metadata": {},
   "outputs": [
    {
     "name": "stdout",
     "output_type": "stream",
     "text": [
      "[1.41 3.32 2.45 2.24]\n"
     ]
    }
   ],
   "source": [
    "distances = [np.sqrt(np.sum((x - x_new) ** 2)) for x in X_train]#riga per riga\n",
    "distances = np.round(distances, 2)\n",
    "print(distances)"
   ]
  },
  {
   "cell_type": "markdown",
   "metadata": {},
   "source": [
    "Posso calcolare le distanze in modo ancora più compatto:"
   ]
  },
  {
   "cell_type": "code",
   "execution_count": 98,
   "metadata": {},
   "outputs": [
    {
     "data": {
      "text/plain": [
       "array([[0, 1, 1],\n",
       "       [1, 1, 9],\n",
       "       [4, 1, 1],\n",
       "       [4, 0, 1]])"
      ]
     },
     "execution_count": 98,
     "metadata": {},
     "output_type": "execute_result"
    }
   ],
   "source": [
    "(X_train - x_new) ** 2#differenze al quadrato"
   ]
  },
  {
   "cell_type": "code",
   "execution_count": 99,
   "metadata": {},
   "outputs": [
    {
     "data": {
      "text/plain": [
       "array([ 2, 11,  6,  5])"
      ]
     },
     "execution_count": 99,
     "metadata": {},
     "output_type": "execute_result"
    }
   ],
   "source": [
    "np.sum((X_train - x_new) ** 2, axis=1)#somma (lungo le colonne) degli scarti al quadrato"
   ]
  },
  {
   "cell_type": "code",
   "execution_count": 100,
   "metadata": {},
   "outputs": [
    {
     "name": "stdout",
     "output_type": "stream",
     "text": [
      "[1.41 3.32 2.45 2.24]\n"
     ]
    }
   ],
   "source": [
    "distances = np.sqrt(np.sum((X_train - x_new) ** 2, axis=1))#tutto vettoriale\n",
    "distances = np.round(distances, 2)\n",
    "print(distances)"
   ]
  },
  {
   "cell_type": "markdown",
   "metadata": {},
   "source": [
    "Quindi, tutto in una riga:"
   ]
  },
  {
   "cell_type": "code",
   "execution_count": 101,
   "metadata": {},
   "outputs": [
    {
     "name": "stdout",
     "output_type": "stream",
     "text": [
      "[1.41 3.32 2.45 2.24]\n"
     ]
    }
   ],
   "source": [
    "print(np.round(np.sqrt(np.sum((X_train - x_new) ** 2, axis=1)), 2))"
   ]
  },
  {
   "cell_type": "markdown",
   "metadata": {},
   "source": [
    "*Norma* di un vettore $d$-dimensionale: $\\|x\\|_2 := \\sqrt{\\frac{1}{d}\\displaystyle\\sum_1^d x_i^2}$."
   ]
  },
  {
   "cell_type": "code",
   "execution_count": 102,
   "metadata": {},
   "outputs": [
    {
     "name": "stdout",
     "output_type": "stream",
     "text": [
      "[0.14967487 0.22232139 0.38648898 0.90259848 0.44994999]\n",
      "1.1128082042838254\n",
      "1.1128082042838254\n"
     ]
    }
   ],
   "source": [
    "from numpy.linalg import norm\n",
    "\n",
    "vec = np.random.random((5,))\n",
    "print(vec)\n",
    "print(np.sqrt(np.sum(vec**2)))\n",
    "print(norm(vec))"
   ]
  },
  {
   "cell_type": "markdown",
   "metadata": {},
   "source": [
    "La distanza euclidea tra due vettori $x$ e $x'$ è la norma del vettore differenza $x - x'$."
   ]
  },
  {
   "cell_type": "code",
   "execution_count": 103,
   "metadata": {},
   "outputs": [
    {
     "name": "stdout",
     "output_type": "stream",
     "text": [
      "[[ 0  1  1]\n",
      " [-1  1 -3]\n",
      " [-2  1  1]\n",
      " [ 2  0  1]]\n"
     ]
    }
   ],
   "source": [
    "print(X_train - x_new)#matrice dei vettori differenza"
   ]
  },
  {
   "cell_type": "code",
   "execution_count": 104,
   "metadata": {},
   "outputs": [
    {
     "name": "stdout",
     "output_type": "stream",
     "text": [
      "[1.41 3.32 2.45 2.24]\n"
     ]
    }
   ],
   "source": [
    "print(np.round(norm(X_train - x_new, axis=1), 2))#norma delle differenze (lungo le colonne!)"
   ]
  },
  {
   "cell_type": "markdown",
   "metadata": {},
   "source": [
    "**Nota**: abbiamo smesso di scrivere cicli for!"
   ]
  },
  {
   "cell_type": "markdown",
   "metadata": {},
   "source": [
    "KNN2\n",
    "---"
   ]
  },
  {
   "cell_type": "code",
   "execution_count": 105,
   "metadata": {},
   "outputs": [
    {
     "name": "stdout",
     "output_type": "stream",
     "text": [
      "[[ 1.6 66. ]\n",
      " [ 1.6 63. ]\n",
      " [ 1.9 67. ]]\n"
     ]
    }
   ],
   "source": [
    "people = np.array([[1.60, 66],\n",
    "                   [1.60, 63],\n",
    "                   [1.90, 67]])\n",
    "\n",
    "print(people)"
   ]
  },
  {
   "cell_type": "code",
   "execution_count": 106,
   "metadata": {},
   "outputs": [
    {
     "name": "stdout",
     "output_type": "stream",
     "text": [
      "[ 1.6 66. ]\n",
      "[ 1.6 63. ]\n",
      "[ 1.9 67. ]\n"
     ]
    }
   ],
   "source": [
    "A, B, C = people\n",
    "print(A)\n",
    "print(B)\n",
    "print(C)"
   ]
  },
  {
   "cell_type": "code",
   "execution_count": 107,
   "metadata": {},
   "outputs": [
    {
     "name": "stdout",
     "output_type": "stream",
     "text": [
      "3.0\n",
      "1.0440306508910548\n"
     ]
    }
   ],
   "source": [
    "print(norm(A-B))\n",
    "print(norm(A-C))"
   ]
  },
  {
   "cell_type": "code",
   "execution_count": 108,
   "metadata": {},
   "outputs": [
    {
     "name": "stdout",
     "output_type": "stream",
     "text": [
      "[0. 0. 1.]\n",
      "[0.75 0.   1.  ]\n"
     ]
    }
   ],
   "source": [
    "def scale_01(column):\n",
    "    return (column - np.min(column)) / (np.max(column) - np.min(column))\n",
    "\n",
    "scaled_height = scale_01(people[:, 0])\n",
    "scaled_weight = scale_01(people[:, 1])\n",
    "\n",
    "print(scaled_height)\n",
    "print(scaled_weight)"
   ]
  },
  {
   "cell_type": "code",
   "execution_count": 109,
   "metadata": {},
   "outputs": [
    {
     "name": "stdout",
     "output_type": "stream",
     "text": [
      "[[0.   0.   1.  ]\n",
      " [0.75 0.   1.  ]]\n"
     ]
    }
   ],
   "source": [
    "scaled_people = np.vstack([scaled_height, scaled_weight])\n",
    "print(scaled_people)"
   ]
  },
  {
   "cell_type": "code",
   "execution_count": 110,
   "metadata": {},
   "outputs": [
    {
     "name": "stdout",
     "output_type": "stream",
     "text": [
      "[[0.   0.75]\n",
      " [0.   0.  ]\n",
      " [1.   1.  ]]\n"
     ]
    }
   ],
   "source": [
    "scaled_people = scaled_people.T#trasposizione\n",
    "print(scaled_people)"
   ]
  },
  {
   "cell_type": "code",
   "execution_count": 111,
   "metadata": {},
   "outputs": [
    {
     "name": "stdout",
     "output_type": "stream",
     "text": [
      "[[0.   0.75]\n",
      " [0.   0.  ]\n",
      " [1.   1.  ]]\n"
     ]
    }
   ],
   "source": [
    "#implementazione più compatta\n",
    "scaled_people = (people - np.min(people, axis=0)) / (np.max(people, axis=0) - np.min(people, axis=0))\n",
    "print(scaled_people)"
   ]
  },
  {
   "cell_type": "code",
   "execution_count": 112,
   "metadata": {},
   "outputs": [
    {
     "name": "stdout",
     "output_type": "stream",
     "text": [
      "[0.   0.75]\n",
      "[0. 0.]\n",
      "[1. 1.]\n"
     ]
    }
   ],
   "source": [
    "scaled_A, scaled_B, scaled_C = scaled_people\n",
    "print(scaled_A)\n",
    "print(scaled_B)\n",
    "print(scaled_C)"
   ]
  },
  {
   "cell_type": "code",
   "execution_count": 113,
   "metadata": {},
   "outputs": [
    {
     "name": "stdout",
     "output_type": "stream",
     "text": [
      "0.75\n",
      "1.0307764064044151\n"
     ]
    }
   ],
   "source": [
    "print(norm(scaled_A-scaled_B))\n",
    "print(norm(scaled_A-scaled_C))"
   ]
  },
  {
   "cell_type": "markdown",
   "metadata": {},
   "source": [
    "<script>\n",
    "  $(document).ready(function(){\n",
    "    $('div.back-to-top').hide();\n",
    "    $('nav#menubar').hide();\n",
    "    $('div.prompt').hide();\n",
    "    $('.hidden-print').hide();\n",
    "  });\n",
    "</script>\n",
    "\n",
    "<footer id=\"attribution\" style=\"float:right; color:#999; background:#fff;\">\n",
    "Created with Jupyter, delivered by Fastly, rendered by Rackspace.\n",
    "</footer>"
   ]
  }
 ],
 "metadata": {
  "kernelspec": {
   "display_name": "Python 3",
   "language": "python",
   "name": "python3"
  },
  "language_info": {
   "codemirror_mode": {
    "name": "ipython",
    "version": 3
   },
   "file_extension": ".py",
   "mimetype": "text/x-python",
   "name": "python",
   "nbconvert_exporter": "python",
   "pygments_lexer": "ipython3",
   "version": "3.6.5"
  }
 },
 "nbformat": 4,
 "nbformat_minor": 2
}
