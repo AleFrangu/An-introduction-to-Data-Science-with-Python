{
 "cells": [
  {
   "cell_type": "markdown",
   "metadata": {},
   "source": [
    "3.1\n",
    "---"
   ]
  },
  {
   "cell_type": "code",
   "execution_count": 1,
   "metadata": {},
   "outputs": [
    {
     "name": "stdout",
     "output_type": "stream",
     "text": [
      "Mount Everest è alta 8858\n",
      "K2 è alta 8611\n",
      "Kangchenjunga è alta 8586\n",
      "La montagna numero 1 è K2 ed è alta 8611\n",
      "La montagna numero 2 è Kangchenjunga ed è alta 8586\n",
      "La montagna numero 3 è Mount Everest ed è alta 8858\n"
     ]
    }
   ],
   "source": [
    "heights = {}\n",
    "heights['Mount Everest'] = 8858\n",
    "heights['K2'] = 8611\n",
    "heights['Kangchenjunga'] = 8586\n",
    "\n",
    "for mountain, height in heights.items():\n",
    "    print('{} è alta {}'.format(mountain, height))\n",
    "    \n",
    "for i, mountain in enumerate(sorted(heights.keys())):\n",
    "    print('La montagna numero {} è {} ed è alta {}'.format(i+1, mountain, heights[mountain]))"
   ]
  },
  {
   "cell_type": "markdown",
   "metadata": {},
   "source": [
    "3.2\n",
    "---"
   ]
  },
  {
   "cell_type": "code",
   "execution_count": 6,
   "metadata": {},
   "outputs": [
    {
     "name": "stdout",
     "output_type": "stream",
     "text": [
      "La montagna numero 0 è Mount Everest, è alta 8858 e si trova in Nepal\n",
      "La montagna numero 1 è K2, è alta 8611 e si trova in Pakistan\n",
      "La montagna numero 2 è Kangchenjunga, è alta 8586 e si trova in Nepal\n"
     ]
    }
   ],
   "source": [
    "mountains = []\n",
    "\n",
    "mountains += [{'name':'Mount Everest', 'height':8858, 'country':'Nepal'}]\n",
    "mountains += [{'name':'K2', 'height':8611, 'country':'Pakistan'}]\n",
    "mountains += [{'name':'Kangchenjunga', 'height':8586, 'country':'Nepal'}]\n",
    "\n",
    "for i, m in enumerate(mountains):\n",
    "    print('La montagna numero {} è {}, è alta {} e si trova in {}'.format(i,\n",
    "                                                                          m['name'],\n",
    "                                                                          m['height'],\n",
    "                                                                          m['country']))"
   ]
  },
  {
   "cell_type": "code",
   "execution_count": 5,
   "metadata": {},
   "outputs": [
    {
     "name": "stdout",
     "output_type": "stream",
     "text": [
      "{'Mount Everest': 8858, 'K2': 8611, 'Kangchenjunga': 8586}\n"
     ]
    }
   ],
   "source": [
    "mountain_names = [m['name'] for m in mountains]\n",
    "mountain_heights = [m['height'] for m in mountains]\n",
    "\n",
    "heights = {}\n",
    "\n",
    "for i,n in enumerate(mountain_names):\n",
    "    heights[n] = mountain_heights[i]\n",
    "    \n",
    "print(heights)"
   ]
  },
  {
   "cell_type": "markdown",
   "metadata": {},
   "source": [
    "4.1, 4.2\n",
    "---"
   ]
  },
  {
   "cell_type": "code",
   "execution_count": 35,
   "metadata": {},
   "outputs": [
    {
     "name": "stdout",
     "output_type": "stream",
     "text": [
      "Il quadrato di 3 è 9, che è multiplo di 3 ma non di 2\n",
      "Il quadrato di 6 è 36, che è multiplo sia di 2 che di 3\n",
      "Il quadrato di 5 è 25, che non è multiplo né di 2 né di 3\n",
      "Il quadrato di 8 è 64, che è multiplo di 2 ma non di 3\n",
      "Il quadrato di 12 è 144, che è multiplo sia di 2 che di 3\n",
      "\n",
      "*******************\n",
      "\n",
      "[36, 64, 144]\n",
      "[9, 36, 144]\n",
      "[64]\n"
     ]
    }
   ],
   "source": [
    "lst = [3,6,5,8,12]\n",
    "\n",
    "for element in lst:\n",
    "    if element**2 % 2 == 0 and element**2 % 3 == 0:\n",
    "        print('Il quadrato di %d è %d, che è multiplo sia di 2 che di 3' % (element, element**2))\n",
    "    elif element**2 % 2 == 0:\n",
    "        print('Il quadrato di %d è %d, che è multiplo di 2 ma non di 3' % (element, element**2))\n",
    "    elif element**2 % 3 == 0:\n",
    "        print('Il quadrato di %d è %d, che è multiplo di 3 ma non di 2' % (element, element**2))\n",
    "    else:\n",
    "        print('Il quadrato di %d è %d, che non è multiplo né di 2 né di 3' %  (element, element**2))\n",
    "        \n",
    "print('\\n*******************\\n')\n",
    "\n",
    "multiples_of_2 = [element**2 for element in lst if element**2 % 2 == 0]\n",
    "multiples_of_3 = [element**2 for element in lst if element**2 % 3 == 0]\n",
    "multiples_of_2_and_not_of_3 = [element**2 for element in lst if element**2 % 2 == 0 and not element**2 % 3 == 0]\n",
    "\n",
    "print(multiples_of_2)\n",
    "print(multiples_of_3)\n",
    "print(multiples_of_2_and_not_of_3)"
   ]
  },
  {
   "cell_type": "markdown",
   "metadata": {},
   "source": [
    "5.1, 5.2, 5.3\n",
    "---"
   ]
  },
  {
   "cell_type": "code",
   "execution_count": 13,
   "metadata": {},
   "outputs": [
    {
     "name": "stdout",
     "output_type": "stream",
     "text": [
      "Lista utenti per età:\n",
      "\n",
      "Nome: Elisa\n",
      "Età: 27\n",
      "Sesso: F\n",
      "\n",
      "Nome: Francesco\n",
      "Età: 30\n",
      "Sesso: M\n",
      "\n",
      "Nome: Michael\n",
      "Età: 30\n",
      "Sesso: M\n",
      "\n",
      "Nome: Giovanni\n",
      "Età: 68\n",
      "Sesso: M\n",
      "\n",
      "*****************************\n",
      "\n",
      "Lista utenti per età:\n",
      "\n",
      "Nome: Elisa\n",
      "Età: 27\n",
      "Sesso: F\n",
      "\n",
      "Nome: Francesco\n",
      "Età: 30\n",
      "Sesso: M\n",
      "\n",
      "Nome: Michael\n",
      "Età: 30\n",
      "Sesso: M\n",
      "\n",
      "Nome: Giovanni\n",
      "Età: 68\n",
      "Sesso: M\n",
      "\n",
      "*****************************\n",
      "\n",
      "Lista utenti per nome:\n",
      "\n",
      "Nome: Elisa\n",
      "Età: 27\n",
      "Sesso: F\n",
      "\n",
      "Nome: Francesco\n",
      "Età: 30\n",
      "Sesso: M\n",
      "\n",
      "Nome: Giovanni\n",
      "Età: 68\n",
      "Sesso: M\n",
      "\n",
      "Nome: Michael\n",
      "Età: 30\n",
      "Sesso: M\n",
      "\n",
      "*****************************\n",
      "\n",
      "Lista dei nomi degli utenti in ordine alfabetico:\n",
      "\n",
      "Elisa\n",
      "Francesco\n",
      "Giovanni\n",
      "Michael\n"
     ]
    }
   ],
   "source": [
    "def show_user_info(user):\n",
    "    print('\\nNome:', user['name'])\n",
    "    print('Età:', user['age'])\n",
    "    print('Sesso:', user['sex'])\n",
    "\n",
    "def show_all_users_by_age(users):\n",
    "    for s in sorted(users, key = lambda x : x['age']):\n",
    "        show_user_info(s)\n",
    "        \n",
    "def show_all_users_by_field(users, field='name'):\n",
    "    for s in sorted(users, key = lambda x : x[field]):\n",
    "        show_user_info(s)\n",
    "        \n",
    "def show_names_alphabetically(users):\n",
    "    for name in sorted([u['name'] for u in users]):\n",
    "        print(name)\n",
    "    \n",
    "francesco = {'name':'Francesco', 'age':30, 'sex':'M'}\n",
    "giovanni = {'name':'Giovanni', 'age':68, 'sex':'M'}\n",
    "elisa = {'name':'Elisa', 'age':27, 'sex':'F'}\n",
    "michael = {'name':'Michael', 'age':30, 'sex':'M'}\n",
    "\n",
    "users = [francesco, giovanni, elisa, michael]\n",
    "\n",
    "print('Lista utenti per età:')\n",
    "show_all_users_by_age(users)\n",
    "print('\\n*****************************')\n",
    "\n",
    "print('\\nLista utenti per età:')\n",
    "show_all_users_by_field(users, field='age')\n",
    "print('\\n*****************************')\n",
    "\n",
    "print('\\nLista utenti per nome:')\n",
    "show_all_users_by_field(users)\n",
    "print('\\n*****************************')\n",
    "\n",
    "print('\\nLista dei nomi degli utenti in ordine alfabetico:\\n')\n",
    "show_names_alphabetically(users)"
   ]
  },
  {
   "cell_type": "markdown",
   "metadata": {},
   "source": [
    "5.4, 5.5\n",
    "---"
   ]
  },
  {
   "cell_type": "code",
   "execution_count": 29,
   "metadata": {},
   "outputs": [
    {
     "name": "stdout",
     "output_type": "stream",
     "text": [
      "\n",
      "Tutti gli utenti:\n",
      "\n",
      "Nome: Francesco\n",
      "Età: 30\n",
      "Sesso: M\n",
      "\n",
      "Nome: Giovanni\n",
      "Età: 68\n",
      "Sesso: M\n",
      "\n",
      "Nome: Giulia\n",
      "Età: 16\n",
      "Sesso: F\n",
      "\n",
      "*****************************\n",
      "\n",
      "Utenti maggiorenni:\n",
      "\n",
      "Nome: Francesco\n",
      "Età: 30\n",
      "Sesso: M\n",
      "\n",
      "Nome: Giovanni\n",
      "Età: 68\n",
      "Sesso: M\n"
     ]
    }
   ],
   "source": [
    "def is_adult(user):\n",
    "    return user['age'] >= 18\n",
    "\n",
    "def show_and_add_if_adult(user, db):\n",
    "    show_user_info(user)\n",
    "    #5.4\n",
    "    #return db + [user] if user['age'] >= 18 else db\n",
    "    #5.5\n",
    "    return db + [user] if is_adult(user) else db\n",
    "\n",
    "adult_users = []#database\n",
    "\n",
    "print('\\nTutti gli utenti:')\n",
    "adult_users = show_and_add_if_adult({'name':'Francesco', 'age':30, 'sex':'M'}, adult_users)\n",
    "adult_users = show_and_add_if_adult({'name':'Giovanni', 'age':68, 'sex':'M'}, adult_users)\n",
    "adult_users = show_and_add_if_adult({'name':'Giulia', 'age':16, 'sex':'F'}, adult_users)\n",
    "print('\\n*****************************')\n",
    "\n",
    "print('\\nUtenti maggiorenni:')\n",
    "for a in adult_users : show_user_info(a)"
   ]
  },
  {
   "cell_type": "markdown",
   "metadata": {},
   "source": [
    "6.2\n",
    "---"
   ]
  },
  {
   "cell_type": "code",
   "execution_count": 6,
   "metadata": {},
   "outputs": [
    {
     "name": "stdout",
     "output_type": "stream",
     "text": [
      "1.0003876317476104\n",
      "1.0003876317476064\n",
      "449 ms ± 44.3 ms per loop (mean ± std. dev. of 7 runs, 1 loop each)\n",
      "2.33 ms ± 140 µs per loop (mean ± std. dev. of 7 runs, 100 loops each)\n"
     ]
    }
   ],
   "source": [
    "import numpy as np\n",
    "import numpy.random as rdm\n",
    "from math import sqrt\n",
    "\n",
    "def py_std(X):\n",
    "    X_mean = sum(X) / len(X)\n",
    "    return sqrt(sum((x-X_mean)**2 for x in X) / len(X))\n",
    "\n",
    "large_array = rdm.normal(size=(1000000,))\n",
    "\n",
    "print(py_std(large_array))\n",
    "print(np.std(large_array))\n",
    "%timeit py_std(large_array)\n",
    "%timeit np.std(large_array)"
   ]
  },
  {
   "cell_type": "markdown",
   "metadata": {},
   "source": [
    "6.3\n",
    "---"
   ]
  },
  {
   "cell_type": "code",
   "execution_count": 11,
   "metadata": {},
   "outputs": [
    {
     "name": "stdout",
     "output_type": "stream",
     "text": [
      "[[[ 67  80  78 240 215]\n",
      "  [ 17 200 175  31   7]\n",
      "  [245 187 193 217  28]\n",
      "  [ 22 203  25  27 186]\n",
      "  [168  53  57 166 223]]\n",
      "\n",
      " [[141  64 197 184 255]\n",
      "  [252  93 243  23 190]\n",
      "  [ 44  92 113 207 116]\n",
      "  [163  93 234  79 249]\n",
      "  [ 42 148  69 142  82]]\n",
      "\n",
      " [[ 46  60  70  39 149]\n",
      "  [194 178  28 162   9]\n",
      "  [ 15  66  66  59  60]\n",
      "  [231  31 127 247 145]\n",
      "  [169 146  64 125  56]]\n",
      "\n",
      " ...\n",
      "\n",
      " [[101  97   8  99  54]\n",
      "  [109 211 255   1 238]\n",
      "  [177 246 166 174 206]\n",
      "  [210 220 114 233  83]\n",
      "  [126 250 209 249 228]]\n",
      "\n",
      " [[ 95  13 199 201 253]\n",
      "  [246 154 247  57 220]\n",
      "  [141 125  60 114 192]\n",
      "  [ 32  15 151 138 154]\n",
      "  [ 37 164   6  90 224]]\n",
      "\n",
      " [[107  77  89  81  96]\n",
      "  [ 97 216 223  35 252]\n",
      "  [115 147 225  78 180]\n",
      "  [ 50 123 244 176 126]\n",
      "  [213 189  79 221 167]]]\n"
     ]
    }
   ],
   "source": [
    "import numpy as np\n",
    "import numpy.random as rdm\n",
    "\n",
    "n_frames = 50\n",
    "n_pixel_x = 5\n",
    "n_pixel_y = 5\n",
    "movie = rdm.randint(256, size=(n_frames, n_pixel_x, n_pixel_y))\n",
    "print(movie)"
   ]
  },
  {
   "cell_type": "code",
   "execution_count": 12,
   "metadata": {},
   "outputs": [
    {
     "name": "stdout",
     "output_type": "stream",
     "text": [
      "(50, 5, 5)\n"
     ]
    }
   ],
   "source": [
    "print(movie.shape)"
   ]
  },
  {
   "cell_type": "code",
   "execution_count": 15,
   "metadata": {},
   "outputs": [
    {
     "name": "stdout",
     "output_type": "stream",
     "text": [
      "[[123.62 122.18 117.36 131.26 132.34]\n",
      " [142.9  131.44 157.54 108.34 127.12]\n",
      " [146.64 134.38 134.8  151.32 146.64]\n",
      " [123.36 129.98 143.12 134.2  125.8 ]\n",
      " [115.86 128.66 135.16 129.18 139.58]]\n",
      "(5, 5)\n"
     ]
    }
   ],
   "source": [
    "pixel_mean_intensity = np.mean(movie, axis=0)\n",
    "print(pixel_mean_intensity)\n",
    "print(pixel_mean_intensity.shape)"
   ]
  },
  {
   "cell_type": "markdown",
   "metadata": {},
   "source": [
    "<script>\n",
    "  $(document).ready(function(){\n",
    "    $('div.back-to-top').hide();\n",
    "    $('nav#menubar').hide();\n",
    "    $('div.prompt').hide();\n",
    "    $('.hidden-print').hide();\n",
    "  });\n",
    "</script>\n",
    "\n",
    "<footer id=\"attribution\" style=\"float:right; color:#999; background:#fff;\">\n",
    "Created with Jupyter, delivered by Fastly, rendered by Rackspace.\n",
    "</footer>"
   ]
  }
 ],
 "metadata": {
  "kernelspec": {
   "display_name": "Python 3",
   "language": "python",
   "name": "python3"
  },
  "language_info": {
   "codemirror_mode": {
    "name": "ipython",
    "version": 3
   },
   "file_extension": ".py",
   "mimetype": "text/x-python",
   "name": "python",
   "nbconvert_exporter": "python",
   "pygments_lexer": "ipython3",
   "version": "3.6.5"
  }
 },
 "nbformat": 4,
 "nbformat_minor": 2
}
