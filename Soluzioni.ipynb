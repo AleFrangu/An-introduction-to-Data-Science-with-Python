{
 "cells": [
  {
   "cell_type": "markdown",
   "metadata": {},
   "source": [
    "3.1\n",
    "---"
   ]
  },
  {
   "cell_type": "code",
   "execution_count": 1,
   "metadata": {},
   "outputs": [
    {
     "name": "stdout",
     "output_type": "stream",
     "text": [
      "Mount Everest è alta 8858\n",
      "K2 è alta 8611\n",
      "Kangchenjunga è alta 8586\n",
      "La montagna numero 1 è K2 ed è alta 8611\n",
      "La montagna numero 2 è Kangchenjunga ed è alta 8586\n",
      "La montagna numero 3 è Mount Everest ed è alta 8858\n"
     ]
    }
   ],
   "source": [
    "heights = {}\n",
    "heights['Mount Everest'] = 8858\n",
    "heights['K2'] = 8611\n",
    "heights['Kangchenjunga'] = 8586\n",
    "\n",
    "for mountain, height in heights.items():\n",
    "    print('{} è alta {}'.format(mountain, height))\n",
    "    \n",
    "for i, mountain in enumerate(sorted(heights.keys())):\n",
    "    print('La montagna numero {} è {} ed è alta {}'.format(i+1, mountain, heights[mountain]))"
   ]
  },
  {
   "cell_type": "markdown",
   "metadata": {},
   "source": [
    "3.2\n",
    "---"
   ]
  },
  {
   "cell_type": "code",
   "execution_count": 6,
   "metadata": {},
   "outputs": [
    {
     "name": "stdout",
     "output_type": "stream",
     "text": [
      "La montagna numero 0 è Mount Everest, è alta 8858 e si trova in Nepal\n",
      "La montagna numero 1 è K2, è alta 8611 e si trova in Pakistan\n",
      "La montagna numero 2 è Kangchenjunga, è alta 8586 e si trova in Nepal\n"
     ]
    }
   ],
   "source": [
    "mountains = []\n",
    "\n",
    "mountains += [{'name':'Mount Everest', 'height':8858, 'country':'Nepal'}]\n",
    "mountains += [{'name':'K2', 'height':8611, 'country':'Pakistan'}]\n",
    "mountains += [{'name':'Kangchenjunga', 'height':8586, 'country':'Nepal'}]\n",
    "\n",
    "for i, m in enumerate(mountains):\n",
    "    print('La montagna numero {} è {}, è alta {} e si trova in {}'.format(i,\n",
    "                                                                          m['name'],\n",
    "                                                                          m['height'],\n",
    "                                                                          m['country']))"
   ]
  },
  {
   "cell_type": "code",
   "execution_count": 5,
   "metadata": {},
   "outputs": [
    {
     "name": "stdout",
     "output_type": "stream",
     "text": [
      "{'Mount Everest': 8858, 'K2': 8611, 'Kangchenjunga': 8586}\n"
     ]
    }
   ],
   "source": [
    "mountain_names = [m['name'] for m in mountains]\n",
    "mountain_heights = [m['height'] for m in mountains]\n",
    "\n",
    "heights = {}\n",
    "\n",
    "for i,n in enumerate(mountain_names):\n",
    "    heights[n] = mountain_heights[i]\n",
    "    \n",
    "print(heights)"
   ]
  },
  {
   "cell_type": "markdown",
   "metadata": {},
   "source": [
    "5.1, 5.2, 5.3\n",
    "---"
   ]
  },
  {
   "cell_type": "code",
   "execution_count": 13,
   "metadata": {},
   "outputs": [
    {
     "name": "stdout",
     "output_type": "stream",
     "text": [
      "Lista utenti per età:\n",
      "\n",
      "Nome: Elisa\n",
      "Età: 27\n",
      "Sesso: F\n",
      "\n",
      "Nome: Francesco\n",
      "Età: 30\n",
      "Sesso: M\n",
      "\n",
      "Nome: Michael\n",
      "Età: 30\n",
      "Sesso: M\n",
      "\n",
      "Nome: Giovanni\n",
      "Età: 68\n",
      "Sesso: M\n",
      "\n",
      "*****************************\n",
      "\n",
      "Lista utenti per età:\n",
      "\n",
      "Nome: Elisa\n",
      "Età: 27\n",
      "Sesso: F\n",
      "\n",
      "Nome: Francesco\n",
      "Età: 30\n",
      "Sesso: M\n",
      "\n",
      "Nome: Michael\n",
      "Età: 30\n",
      "Sesso: M\n",
      "\n",
      "Nome: Giovanni\n",
      "Età: 68\n",
      "Sesso: M\n",
      "\n",
      "*****************************\n",
      "\n",
      "Lista utenti per nome:\n",
      "\n",
      "Nome: Elisa\n",
      "Età: 27\n",
      "Sesso: F\n",
      "\n",
      "Nome: Francesco\n",
      "Età: 30\n",
      "Sesso: M\n",
      "\n",
      "Nome: Giovanni\n",
      "Età: 68\n",
      "Sesso: M\n",
      "\n",
      "Nome: Michael\n",
      "Età: 30\n",
      "Sesso: M\n",
      "\n",
      "*****************************\n",
      "\n",
      "Lista dei nomi degli utenti in ordine alfabetico:\n",
      "\n",
      "Elisa\n",
      "Francesco\n",
      "Giovanni\n",
      "Michael\n"
     ]
    }
   ],
   "source": [
    "def show_user_info(user):\n",
    "    print('\\nNome:', user['name'])\n",
    "    print('Età:', user['age'])\n",
    "    print('Sesso:', user['sex'])\n",
    "\n",
    "def show_all_users_by_age(users):\n",
    "    for s in sorted(users, key = lambda x : x['age']):\n",
    "        show_user_info(s)\n",
    "        \n",
    "def show_all_users_by_field(users, field='name'):\n",
    "    for s in sorted(users, key = lambda x : x[field]):\n",
    "        show_user_info(s)\n",
    "        \n",
    "def show_names_alphabetically(users):\n",
    "    for name in sorted([u['name'] for u in users]):\n",
    "        print(name)\n",
    "    \n",
    "francesco = {'name':'Francesco', 'age':30, 'sex':'M'}\n",
    "giovanni = {'name':'Giovanni', 'age':68, 'sex':'M'}\n",
    "elisa = {'name':'Elisa', 'age':27, 'sex':'F'}\n",
    "michael = {'name':'Michael', 'age':30, 'sex':'M'}\n",
    "\n",
    "users = [francesco, giovanni, elisa, michael]\n",
    "\n",
    "print('Lista utenti per età:')\n",
    "show_all_users_by_age(users)\n",
    "print('\\n*****************************')\n",
    "\n",
    "print('\\nLista utenti per età:')\n",
    "show_all_users_by_field(users, field='age')\n",
    "print('\\n*****************************')\n",
    "\n",
    "print('\\nLista utenti per nome:')\n",
    "show_all_users_by_field(users)\n",
    "print('\\n*****************************')\n",
    "\n",
    "print('\\nLista dei nomi degli utenti in ordine alfabetico:\\n')\n",
    "show_names_alphabetically(users)"
   ]
  },
  {
   "cell_type": "markdown",
   "metadata": {},
   "source": [
    "5.4, 5.5\n",
    "---"
   ]
  },
  {
   "cell_type": "code",
   "execution_count": 29,
   "metadata": {},
   "outputs": [
    {
     "name": "stdout",
     "output_type": "stream",
     "text": [
      "\n",
      "Tutti gli utenti:\n",
      "\n",
      "Nome: Francesco\n",
      "Età: 30\n",
      "Sesso: M\n",
      "\n",
      "Nome: Giovanni\n",
      "Età: 68\n",
      "Sesso: M\n",
      "\n",
      "Nome: Giulia\n",
      "Età: 16\n",
      "Sesso: F\n",
      "\n",
      "*****************************\n",
      "\n",
      "Utenti maggiorenni:\n",
      "\n",
      "Nome: Francesco\n",
      "Età: 30\n",
      "Sesso: M\n",
      "\n",
      "Nome: Giovanni\n",
      "Età: 68\n",
      "Sesso: M\n"
     ]
    }
   ],
   "source": [
    "def is_adult(user):\n",
    "    return user['age'] >= 18\n",
    "\n",
    "def show_and_add_if_adult(user, db):\n",
    "    show_user_info(user)\n",
    "    #5.4\n",
    "    #return db + [user] if user['age'] >= 18 else db\n",
    "    #5.5\n",
    "    return db + [user] if is_adult(user) else db\n",
    "\n",
    "adult_users = []#database\n",
    "\n",
    "print('\\nTutti gli utenti:')\n",
    "adult_users = show_and_add_if_adult({'name':'Francesco', 'age':30, 'sex':'M'}, adult_users)\n",
    "adult_users = show_and_add_if_adult({'name':'Giovanni', 'age':68, 'sex':'M'}, adult_users)\n",
    "adult_users = show_and_add_if_adult({'name':'Giulia', 'age':16, 'sex':'F'}, adult_users)\n",
    "print('\\n*****************************')\n",
    "\n",
    "print('\\nUtenti maggiorenni:')\n",
    "for a in adult_users : show_user_info(a)"
   ]
  }
 ],
 "metadata": {
  "kernelspec": {
   "display_name": "Python 3",
   "language": "python",
   "name": "python3"
  },
  "language_info": {
   "codemirror_mode": {
    "name": "ipython",
    "version": 3
   },
   "file_extension": ".py",
   "mimetype": "text/x-python",
   "name": "python",
   "nbconvert_exporter": "python",
   "pygments_lexer": "ipython3",
   "version": "3.6.5"
  }
 },
 "nbformat": 4,
 "nbformat_minor": 2
}
