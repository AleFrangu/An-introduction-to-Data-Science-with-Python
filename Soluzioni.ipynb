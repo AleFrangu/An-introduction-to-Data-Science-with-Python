{
 "cells": [
  {
   "cell_type": "markdown",
   "metadata": {},
   "source": [
    "3.1\n",
    "---"
   ]
  },
  {
   "cell_type": "code",
   "execution_count": 1,
   "metadata": {},
   "outputs": [
    {
     "name": "stdout",
     "output_type": "stream",
     "text": [
      "Mount Everest è alta 8858\n",
      "K2 è alta 8611\n",
      "Kangchenjunga è alta 8586\n",
      "La montagna numero 1 è K2 ed è alta 8611\n",
      "La montagna numero 2 è Kangchenjunga ed è alta 8586\n",
      "La montagna numero 3 è Mount Everest ed è alta 8858\n"
     ]
    }
   ],
   "source": [
    "heights = {}\n",
    "heights['Mount Everest'] = 8858\n",
    "heights['K2'] = 8611\n",
    "heights['Kangchenjunga'] = 8586\n",
    "\n",
    "for mountain, height in heights.items():\n",
    "    print('{} è alta {}'.format(mountain, height))\n",
    "    \n",
    "for i, mountain in enumerate(sorted(heights.keys())):\n",
    "    print('La montagna numero {} è {} ed è alta {}'.format(i+1, mountain, heights[mountain]))"
   ]
  },
  {
   "cell_type": "markdown",
   "metadata": {},
   "source": [
    "3.2\n",
    "---"
   ]
  },
  {
   "cell_type": "code",
   "execution_count": 2,
   "metadata": {},
   "outputs": [
    {
     "name": "stdout",
     "output_type": "stream",
     "text": [
      "La montagna numero 0 è Mount Everest, è alta 8858, si trova in Nepal\n",
      "La montagna numero 1 è K2, è alta 8611, si trova in Pakistan\n",
      "La montagna numero 2 è Kangchenjunga, è alta 8586, si trova in Nepal\n"
     ]
    }
   ],
   "source": [
    "mountains = []\n",
    "\n",
    "mountains += [{'name':'Mount Everest', 'height':8858, 'country':'Nepal'}]\n",
    "mountains += [{'name':'K2', 'height':8611, 'country':'Pakistan'}]\n",
    "mountains += [{'name':'Kangchenjunga', 'height':8586, 'country':'Nepal'}]\n",
    "\n",
    "for i, m in enumerate(mountains):\n",
    "    print('La montagna numero {} è {}, è alta {}, si trova in {}'.format(i,\n",
    "                                                                         m['name'],\n",
    "                                                                         m['height'],\n",
    "                                                                         m['country']))"
   ]
  },
  {
   "cell_type": "code",
   "execution_count": 5,
   "metadata": {},
   "outputs": [
    {
     "name": "stdout",
     "output_type": "stream",
     "text": [
      "{'Mount Everest': 8858, 'K2': 8611, 'Kangchenjunga': 8586}\n"
     ]
    }
   ],
   "source": [
    "mountain_names = [m['name'] for m in mountains]\n",
    "mountain_heights = [m['height'] for m in mountains]\n",
    "\n",
    "heights = {}\n",
    "\n",
    "for i,n in enumerate(mountain_names):\n",
    "    heights[n] = mountain_heights[i]\n",
    "    \n",
    "print(heights)"
   ]
  }
 ],
 "metadata": {
  "kernelspec": {
   "display_name": "Python 3",
   "language": "python",
   "name": "python3"
  },
  "language_info": {
   "codemirror_mode": {
    "name": "ipython",
    "version": 3
   },
   "file_extension": ".py",
   "mimetype": "text/x-python",
   "name": "python",
   "nbconvert_exporter": "python",
   "pygments_lexer": "ipython3",
   "version": "3.6.5"
  }
 },
 "nbformat": 4,
 "nbformat_minor": 2
}
